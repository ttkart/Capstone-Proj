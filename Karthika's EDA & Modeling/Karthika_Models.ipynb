{
  "cells": [
    {
      "cell_type": "code",
      "execution_count": null,
      "id": "dd0059d9-7e82-488e-9457-a6cd7fb46cdc",
      "metadata": {
        "id": "dd0059d9-7e82-488e-9457-a6cd7fb46cdc"
      },
      "outputs": [],
      "source": [
        "import pandas as pd\n",
        "import numpy as np\n",
        "import seaborn as sns\n",
        "import colorcet as cc\n",
        "import matplotlib.pyplot as plt\n",
        "from geopy.distance import distance\n",
        "# from matplotlib import cm\n",
        "# import plotly.express as px\n",
        "# import ipywidgets as widgets\n",
        "# from IPython.display import display\n",
        "# import re"
      ]
    },
    {
      "cell_type": "code",
      "execution_count": null,
      "id": "d77f5d4e-66d2-4f15-9b5f-67b28d440add",
      "metadata": {
        "id": "d77f5d4e-66d2-4f15-9b5f-67b28d440add"
      },
      "outputs": [],
      "source": [
        "# https://stackoverflow.com/questions/66572349/python-sub-state-names-for-abbrev-via-python-dict-with-re-sub\n",
        "states = {\n",
        "        'AK': 'Alaska',\n",
        "        'AL': 'Alabama',\n",
        "        'AR': 'Arkansas',\n",
        "        'AS': 'American Samoa',\n",
        "        'AZ': 'Arizona',\n",
        "        'CA': 'California',\n",
        "        'CO': 'Colorado',\n",
        "        'CT': 'Connecticut',\n",
        "        'DC': 'District of Columbia',\n",
        "        'DE': 'Delaware',\n",
        "        'FL': 'Florida',\n",
        "        'GA': 'Georgia',\n",
        "        'GU': 'Guam',\n",
        "        'HI': 'Hawaii',\n",
        "        'IA': 'Iowa',\n",
        "        'ID': 'Idaho',\n",
        "        'IL': 'Illinois',\n",
        "        'IN': 'Indiana',\n",
        "        'KS': 'Kansas',\n",
        "        'KY': 'Kentucky',\n",
        "        'LA': 'Louisiana',\n",
        "        'MA': 'Massachusetts',\n",
        "        'MD': 'Maryland',\n",
        "        'ME': 'Maine',\n",
        "        'MI': 'Michigan',\n",
        "        'MN': 'Minnesota',\n",
        "        'MO': 'Missouri',\n",
        "        'MP': 'Northern Mariana Islands',\n",
        "        'MS': 'Mississippi',\n",
        "        'MT': 'Montana',\n",
        "        'NA': 'National',\n",
        "        'NC': 'North Carolina',\n",
        "        'ND': 'North Dakota',\n",
        "        'NE': 'Nebraska',\n",
        "        'NH': 'New Hampshire',\n",
        "        'NJ': 'New Jersey',\n",
        "        'NM': 'New Mexico',\n",
        "        'NV': 'Nevada',\n",
        "        'NY': 'New York',\n",
        "        'OH': 'Ohio',\n",
        "        'OK': 'Oklahoma',\n",
        "        'OR': 'Oregon',\n",
        "        'PA': 'Pennsylvania',\n",
        "        'PR': 'Puerto Rico',\n",
        "        'RI': 'Rhode Island',\n",
        "        'SC': 'South Carolina',\n",
        "        'SD': 'South Dakota',\n",
        "        'TN': 'Tennessee',\n",
        "        'TX': 'Texas',\n",
        "        'UT': 'Utah',\n",
        "        'VA': 'Virginia',\n",
        "        'VI': 'Virgin Islands',\n",
        "        'VT': 'Vermont',\n",
        "        'WA': 'Washington',\n",
        "        'WI': 'Wisconsin',\n",
        "        'WV': 'West Virginia',\n",
        "        'WY': 'Wyoming'\n",
        "}"
      ]
    },
    {
      "cell_type": "code",
      "execution_count": null,
      "id": "e0eebd18-df88-4b86-9c4d-cf6f37f7de66",
      "metadata": {
        "id": "e0eebd18-df88-4b86-9c4d-cf6f37f7de66",
        "outputId": "45f9861c-fbc4-4a72-fa93-d3330fada91a",
        "colab": {
          "base_uri": "https://localhost:8080/"
        }
      },
      "outputs": [
        {
          "output_type": "execute_result",
          "data": {
            "text/plain": [
              "{'Alaska': 'AK',\n",
              " 'Alabama': 'AL',\n",
              " 'Arkansas': 'AR',\n",
              " 'American Samoa': 'AS',\n",
              " 'Arizona': 'AZ',\n",
              " 'California': 'CA',\n",
              " 'Colorado': 'CO',\n",
              " 'Connecticut': 'CT',\n",
              " 'District of Columbia': 'DC',\n",
              " 'Delaware': 'DE',\n",
              " 'Florida': 'FL',\n",
              " 'Georgia': 'GA',\n",
              " 'Guam': 'GU',\n",
              " 'Hawaii': 'HI',\n",
              " 'Iowa': 'IA',\n",
              " 'Idaho': 'ID',\n",
              " 'Illinois': 'IL',\n",
              " 'Indiana': 'IN',\n",
              " 'Kansas': 'KS',\n",
              " 'Kentucky': 'KY',\n",
              " 'Louisiana': 'LA',\n",
              " 'Massachusetts': 'MA',\n",
              " 'Maryland': 'MD',\n",
              " 'Maine': 'ME',\n",
              " 'Michigan': 'MI',\n",
              " 'Minnesota': 'MN',\n",
              " 'Missouri': 'MO',\n",
              " 'Northern Mariana Islands': 'MP',\n",
              " 'Mississippi': 'MS',\n",
              " 'Montana': 'MT',\n",
              " 'National': 'NA',\n",
              " 'North Carolina': 'NC',\n",
              " 'North Dakota': 'ND',\n",
              " 'Nebraska': 'NE',\n",
              " 'New Hampshire': 'NH',\n",
              " 'New Jersey': 'NJ',\n",
              " 'New Mexico': 'NM',\n",
              " 'Nevada': 'NV',\n",
              " 'New York': 'NY',\n",
              " 'Ohio': 'OH',\n",
              " 'Oklahoma': 'OK',\n",
              " 'Oregon': 'OR',\n",
              " 'Pennsylvania': 'PA',\n",
              " 'Puerto Rico': 'PR',\n",
              " 'Rhode Island': 'RI',\n",
              " 'South Carolina': 'SC',\n",
              " 'South Dakota': 'SD',\n",
              " 'Tennessee': 'TN',\n",
              " 'Texas': 'TX',\n",
              " 'Utah': 'UT',\n",
              " 'Virginia': 'VA',\n",
              " 'Virgin Islands': 'VI',\n",
              " 'Vermont': 'VT',\n",
              " 'Washington': 'WA',\n",
              " 'Wisconsin': 'WI',\n",
              " 'West Virginia': 'WV',\n",
              " 'Wyoming': 'WY'}"
            ]
          },
          "metadata": {},
          "execution_count": 3
        }
      ],
      "source": [
        "states = {value: key for key, value in states.items()}\n",
        "states"
      ]
    },
    {
      "cell_type": "code",
      "execution_count": null,
      "id": "814f32c9-2779-4fa8-96e5-8d229706582d",
      "metadata": {
        "id": "814f32c9-2779-4fa8-96e5-8d229706582d",
        "outputId": "2dbb50cf-62d8-4a1c-bad5-c41efcc3e441",
        "colab": {
          "base_uri": "https://localhost:8080/",
          "height": 36
        }
      },
      "outputs": [
        {
          "output_type": "execute_result",
          "data": {
            "text/plain": [
              "'AK'"
            ],
            "application/vnd.google.colaboratory.intrinsic+json": {
              "type": "string"
            }
          },
          "metadata": {},
          "execution_count": 5
        }
      ],
      "source": [
        "states['Alaska']"
      ]
    },
    {
      "cell_type": "code",
      "execution_count": null,
      "id": "cd5f6d3f-3aaa-4c19-ae37-1ec83f77d4f7",
      "metadata": {
        "id": "cd5f6d3f-3aaa-4c19-ae37-1ec83f77d4f7",
        "outputId": "bfff0748-b501-4162-cdeb-ae032ce1a6f4",
        "colab": {
          "base_uri": "https://localhost:8080/",
          "height": 206
        }
      },
      "outputs": [
        {
          "output_type": "execute_result",
          "data": {
            "text/plain": [
              "  State1 State2     distance\n",
              "0     AL     AL     0.000000\n",
              "1     AL     AK  3476.952449\n",
              "2     AL     AZ  1433.460157\n",
              "3     AL     AR   354.170490\n",
              "4     AL     CA  1867.241601"
            ],
            "text/html": [
              "\n",
              "  <div id=\"df-2ecfdb06-e971-4367-bb25-3de8175d6d5f\" class=\"colab-df-container\">\n",
              "    <div>\n",
              "<style scoped>\n",
              "    .dataframe tbody tr th:only-of-type {\n",
              "        vertical-align: middle;\n",
              "    }\n",
              "\n",
              "    .dataframe tbody tr th {\n",
              "        vertical-align: top;\n",
              "    }\n",
              "\n",
              "    .dataframe thead th {\n",
              "        text-align: right;\n",
              "    }\n",
              "</style>\n",
              "<table border=\"1\" class=\"dataframe\">\n",
              "  <thead>\n",
              "    <tr style=\"text-align: right;\">\n",
              "      <th></th>\n",
              "      <th>State1</th>\n",
              "      <th>State2</th>\n",
              "      <th>distance</th>\n",
              "    </tr>\n",
              "  </thead>\n",
              "  <tbody>\n",
              "    <tr>\n",
              "      <th>0</th>\n",
              "      <td>AL</td>\n",
              "      <td>AL</td>\n",
              "      <td>0.000000</td>\n",
              "    </tr>\n",
              "    <tr>\n",
              "      <th>1</th>\n",
              "      <td>AL</td>\n",
              "      <td>AK</td>\n",
              "      <td>3476.952449</td>\n",
              "    </tr>\n",
              "    <tr>\n",
              "      <th>2</th>\n",
              "      <td>AL</td>\n",
              "      <td>AZ</td>\n",
              "      <td>1433.460157</td>\n",
              "    </tr>\n",
              "    <tr>\n",
              "      <th>3</th>\n",
              "      <td>AL</td>\n",
              "      <td>AR</td>\n",
              "      <td>354.170490</td>\n",
              "    </tr>\n",
              "    <tr>\n",
              "      <th>4</th>\n",
              "      <td>AL</td>\n",
              "      <td>CA</td>\n",
              "      <td>1867.241601</td>\n",
              "    </tr>\n",
              "  </tbody>\n",
              "</table>\n",
              "</div>\n",
              "    <div class=\"colab-df-buttons\">\n",
              "\n",
              "  <div class=\"colab-df-container\">\n",
              "    <button class=\"colab-df-convert\" onclick=\"convertToInteractive('df-2ecfdb06-e971-4367-bb25-3de8175d6d5f')\"\n",
              "            title=\"Convert this dataframe to an interactive table.\"\n",
              "            style=\"display:none;\">\n",
              "\n",
              "  <svg xmlns=\"http://www.w3.org/2000/svg\" height=\"24px\" viewBox=\"0 -960 960 960\">\n",
              "    <path d=\"M120-120v-720h720v720H120Zm60-500h600v-160H180v160Zm220 220h160v-160H400v160Zm0 220h160v-160H400v160ZM180-400h160v-160H180v160Zm440 0h160v-160H620v160ZM180-180h160v-160H180v160Zm440 0h160v-160H620v160Z\"/>\n",
              "  </svg>\n",
              "    </button>\n",
              "\n",
              "  <style>\n",
              "    .colab-df-container {\n",
              "      display:flex;\n",
              "      gap: 12px;\n",
              "    }\n",
              "\n",
              "    .colab-df-convert {\n",
              "      background-color: #E8F0FE;\n",
              "      border: none;\n",
              "      border-radius: 50%;\n",
              "      cursor: pointer;\n",
              "      display: none;\n",
              "      fill: #1967D2;\n",
              "      height: 32px;\n",
              "      padding: 0 0 0 0;\n",
              "      width: 32px;\n",
              "    }\n",
              "\n",
              "    .colab-df-convert:hover {\n",
              "      background-color: #E2EBFA;\n",
              "      box-shadow: 0px 1px 2px rgba(60, 64, 67, 0.3), 0px 1px 3px 1px rgba(60, 64, 67, 0.15);\n",
              "      fill: #174EA6;\n",
              "    }\n",
              "\n",
              "    .colab-df-buttons div {\n",
              "      margin-bottom: 4px;\n",
              "    }\n",
              "\n",
              "    [theme=dark] .colab-df-convert {\n",
              "      background-color: #3B4455;\n",
              "      fill: #D2E3FC;\n",
              "    }\n",
              "\n",
              "    [theme=dark] .colab-df-convert:hover {\n",
              "      background-color: #434B5C;\n",
              "      box-shadow: 0px 1px 3px 1px rgba(0, 0, 0, 0.15);\n",
              "      filter: drop-shadow(0px 1px 2px rgba(0, 0, 0, 0.3));\n",
              "      fill: #FFFFFF;\n",
              "    }\n",
              "  </style>\n",
              "\n",
              "    <script>\n",
              "      const buttonEl =\n",
              "        document.querySelector('#df-2ecfdb06-e971-4367-bb25-3de8175d6d5f button.colab-df-convert');\n",
              "      buttonEl.style.display =\n",
              "        google.colab.kernel.accessAllowed ? 'block' : 'none';\n",
              "\n",
              "      async function convertToInteractive(key) {\n",
              "        const element = document.querySelector('#df-2ecfdb06-e971-4367-bb25-3de8175d6d5f');\n",
              "        const dataTable =\n",
              "          await google.colab.kernel.invokeFunction('convertToInteractive',\n",
              "                                                    [key], {});\n",
              "        if (!dataTable) return;\n",
              "\n",
              "        const docLinkHtml = 'Like what you see? Visit the ' +\n",
              "          '<a target=\"_blank\" href=https://colab.research.google.com/notebooks/data_table.ipynb>data table notebook</a>'\n",
              "          + ' to learn more about interactive tables.';\n",
              "        element.innerHTML = '';\n",
              "        dataTable['output_type'] = 'display_data';\n",
              "        await google.colab.output.renderOutput(dataTable, element);\n",
              "        const docLink = document.createElement('div');\n",
              "        docLink.innerHTML = docLinkHtml;\n",
              "        element.appendChild(docLink);\n",
              "      }\n",
              "    </script>\n",
              "  </div>\n",
              "\n",
              "\n",
              "<div id=\"df-4761470d-a682-40da-9cfc-e0a75e6145a4\">\n",
              "  <button class=\"colab-df-quickchart\" onclick=\"quickchart('df-4761470d-a682-40da-9cfc-e0a75e6145a4')\"\n",
              "            title=\"Suggest charts\"\n",
              "            style=\"display:none;\">\n",
              "\n",
              "<svg xmlns=\"http://www.w3.org/2000/svg\" height=\"24px\"viewBox=\"0 0 24 24\"\n",
              "     width=\"24px\">\n",
              "    <g>\n",
              "        <path d=\"M19 3H5c-1.1 0-2 .9-2 2v14c0 1.1.9 2 2 2h14c1.1 0 2-.9 2-2V5c0-1.1-.9-2-2-2zM9 17H7v-7h2v7zm4 0h-2V7h2v10zm4 0h-2v-4h2v4z\"/>\n",
              "    </g>\n",
              "</svg>\n",
              "  </button>\n",
              "\n",
              "<style>\n",
              "  .colab-df-quickchart {\n",
              "      --bg-color: #E8F0FE;\n",
              "      --fill-color: #1967D2;\n",
              "      --hover-bg-color: #E2EBFA;\n",
              "      --hover-fill-color: #174EA6;\n",
              "      --disabled-fill-color: #AAA;\n",
              "      --disabled-bg-color: #DDD;\n",
              "  }\n",
              "\n",
              "  [theme=dark] .colab-df-quickchart {\n",
              "      --bg-color: #3B4455;\n",
              "      --fill-color: #D2E3FC;\n",
              "      --hover-bg-color: #434B5C;\n",
              "      --hover-fill-color: #FFFFFF;\n",
              "      --disabled-bg-color: #3B4455;\n",
              "      --disabled-fill-color: #666;\n",
              "  }\n",
              "\n",
              "  .colab-df-quickchart {\n",
              "    background-color: var(--bg-color);\n",
              "    border: none;\n",
              "    border-radius: 50%;\n",
              "    cursor: pointer;\n",
              "    display: none;\n",
              "    fill: var(--fill-color);\n",
              "    height: 32px;\n",
              "    padding: 0;\n",
              "    width: 32px;\n",
              "  }\n",
              "\n",
              "  .colab-df-quickchart:hover {\n",
              "    background-color: var(--hover-bg-color);\n",
              "    box-shadow: 0 1px 2px rgba(60, 64, 67, 0.3), 0 1px 3px 1px rgba(60, 64, 67, 0.15);\n",
              "    fill: var(--button-hover-fill-color);\n",
              "  }\n",
              "\n",
              "  .colab-df-quickchart-complete:disabled,\n",
              "  .colab-df-quickchart-complete:disabled:hover {\n",
              "    background-color: var(--disabled-bg-color);\n",
              "    fill: var(--disabled-fill-color);\n",
              "    box-shadow: none;\n",
              "  }\n",
              "\n",
              "  .colab-df-spinner {\n",
              "    border: 2px solid var(--fill-color);\n",
              "    border-color: transparent;\n",
              "    border-bottom-color: var(--fill-color);\n",
              "    animation:\n",
              "      spin 1s steps(1) infinite;\n",
              "  }\n",
              "\n",
              "  @keyframes spin {\n",
              "    0% {\n",
              "      border-color: transparent;\n",
              "      border-bottom-color: var(--fill-color);\n",
              "      border-left-color: var(--fill-color);\n",
              "    }\n",
              "    20% {\n",
              "      border-color: transparent;\n",
              "      border-left-color: var(--fill-color);\n",
              "      border-top-color: var(--fill-color);\n",
              "    }\n",
              "    30% {\n",
              "      border-color: transparent;\n",
              "      border-left-color: var(--fill-color);\n",
              "      border-top-color: var(--fill-color);\n",
              "      border-right-color: var(--fill-color);\n",
              "    }\n",
              "    40% {\n",
              "      border-color: transparent;\n",
              "      border-right-color: var(--fill-color);\n",
              "      border-top-color: var(--fill-color);\n",
              "    }\n",
              "    60% {\n",
              "      border-color: transparent;\n",
              "      border-right-color: var(--fill-color);\n",
              "    }\n",
              "    80% {\n",
              "      border-color: transparent;\n",
              "      border-right-color: var(--fill-color);\n",
              "      border-bottom-color: var(--fill-color);\n",
              "    }\n",
              "    90% {\n",
              "      border-color: transparent;\n",
              "      border-bottom-color: var(--fill-color);\n",
              "    }\n",
              "  }\n",
              "</style>\n",
              "\n",
              "  <script>\n",
              "    async function quickchart(key) {\n",
              "      const quickchartButtonEl =\n",
              "        document.querySelector('#' + key + ' button');\n",
              "      quickchartButtonEl.disabled = true;  // To prevent multiple clicks.\n",
              "      quickchartButtonEl.classList.add('colab-df-spinner');\n",
              "      try {\n",
              "        const charts = await google.colab.kernel.invokeFunction(\n",
              "            'suggestCharts', [key], {});\n",
              "      } catch (error) {\n",
              "        console.error('Error during call to suggestCharts:', error);\n",
              "      }\n",
              "      quickchartButtonEl.classList.remove('colab-df-spinner');\n",
              "      quickchartButtonEl.classList.add('colab-df-quickchart-complete');\n",
              "    }\n",
              "    (() => {\n",
              "      let quickchartButtonEl =\n",
              "        document.querySelector('#df-4761470d-a682-40da-9cfc-e0a75e6145a4 button');\n",
              "      quickchartButtonEl.style.display =\n",
              "        google.colab.kernel.accessAllowed ? 'block' : 'none';\n",
              "    })();\n",
              "  </script>\n",
              "</div>\n",
              "    </div>\n",
              "  </div>\n"
            ],
            "application/vnd.google.colaboratory.intrinsic+json": {
              "type": "dataframe",
              "variable_name": "distancesDF",
              "summary": "{\n  \"name\": \"distancesDF\",\n  \"rows\": 2601,\n  \"fields\": [\n    {\n      \"column\": \"State1\",\n      \"properties\": {\n        \"dtype\": \"category\",\n        \"num_unique_values\": 51,\n        \"samples\": [\n          \"TX\",\n          \"SC\",\n          \"VA\"\n        ],\n        \"semantic_type\": \"\",\n        \"description\": \"\"\n      }\n    },\n    {\n      \"column\": \"State2\",\n      \"properties\": {\n        \"dtype\": \"category\",\n        \"num_unique_values\": 51,\n        \"samples\": [\n          \"TX\",\n          \"SC\",\n          \"VA\"\n        ],\n        \"semantic_type\": \"\",\n        \"description\": \"\"\n      }\n    },\n    {\n      \"column\": \"distance\",\n      \"properties\": {\n        \"dtype\": \"number\",\n        \"std\": 910.1717718725479,\n        \"min\": 0.0,\n        \"max\": 5103.5593173356165,\n        \"num_unique_values\": 1276,\n        \"samples\": [\n          482.45972563080073,\n          2675.275492364122,\n          2581.687314942871\n        ],\n        \"semantic_type\": \"\",\n        \"description\": \"\"\n      }\n    }\n  ]\n}"
            }
          },
          "metadata": {},
          "execution_count": 7
        }
      ],
      "source": [
        "# Load in Datasets\n",
        "# https://gist.github.com/rebecca-sich/1c422acc1b222b8a04fcd3cfae79bc18\n",
        "\n",
        "df = pd.read_csv('merge_final.csv')\n",
        "statesDF = pd.read_csv('states.csv')\n",
        "distancesDF = pd.DataFrame(columns=[\"State1\", \"State2\", \"distance\"])\n",
        "for state1, lat1, lon1 in zip(statesDF.state, statesDF.latitude, statesDF.longitude):\n",
        "    for state2, lat2, lon2 in zip(statesDF.state, statesDF.latitude, statesDF.longitude):\n",
        "        new_data= pd.DataFrame({\n",
        "            \"State1\": [states[state1]],\n",
        "            \"State2\": [states[state2]],\n",
        "            \"distance\": [distance((lat1, lon1), (lat2, lon2)).miles]\n",
        "            })\n",
        "\n",
        "        distancesDF = pd.concat([distancesDF, new_data], ignore_index=True)\n",
        "\n",
        "distancesDF.head()"
      ]
    },
    {
      "cell_type": "code",
      "execution_count": null,
      "id": "e96bd2e1-b7d2-4aa7-9733-f87f0b6b5c14",
      "metadata": {
        "id": "e96bd2e1-b7d2-4aa7-9733-f87f0b6b5c14",
        "outputId": "a762eab6-f6c8-4cc9-a8a8-d0693bf15da7",
        "colab": {
          "base_uri": "https://localhost:8080/",
          "height": 256
        }
      },
      "outputs": [
        {
          "output_type": "execute_result",
          "data": {
            "text/plain": [
              "   Year  Quarter State1  temperature1  precepitation1  windspeed1 State2  \\\n",
              "0  2006        3     OR      9.894872       60.482353   11.634091     WA   \n",
              "1  2006        3     OR      9.894872       60.482353   11.634091     WA   \n",
              "2  2006        3     OR      9.894872       60.482353   11.634091     WA   \n",
              "3  1997        1     OR      5.538889      111.128571   11.460000     WA   \n",
              "4  1997        1     OR      5.538889      111.128571   11.460000     WA   \n",
              "\n",
              "   temperature2  precepitation2  windspeed2  ...  CarriersMktShare  \\\n",
              "0     10.280769       46.254167   12.184615  ...              0.59   \n",
              "1     10.280769       46.254167   12.184615  ...              0.59   \n",
              "2     10.280769       46.254167   12.184615  ...              0.59   \n",
              "3      3.626667      105.488462   14.235294  ...              0.36   \n",
              "4      3.626667      105.488462   14.235294  ...              0.36   \n",
              "\n",
              "  CarrierAvgFare  Carrier_MinFareIncrement  CarrierMinPassangerShare  \\\n",
              "0          80.44                        75                      0.44   \n",
              "1          80.44                        75                      0.44   \n",
              "2          80.44                        75                      0.44   \n",
              "3          74.00                        75                      0.84   \n",
              "4          74.00                        75                      0.84   \n",
              "\n",
              "   CarrierMaxFareIncrement  CarrierMaxPassengerShare  CarrierType  \\\n",
              "0                      125                      0.25          3.0   \n",
              "1                      125                      0.25          3.0   \n",
              "2                      125                      0.25          3.0   \n",
              "3                      100                      0.07          2.0   \n",
              "4                      100                      0.07          2.0   \n",
              "\n",
              "   TDOMT_GALLONS   TDOMT_COST    distance  \n",
              "0    120723849.0  198330840.0  238.255775  \n",
              "1    122313419.0  195732437.0  238.255775  \n",
              "2    115493227.0  167256388.0  238.255775  \n",
              "3      3563198.0    3241811.0  238.255775  \n",
              "4      3189728.0    2946198.0  238.255775  \n",
              "\n",
              "[5 rows x 24 columns]"
            ],
            "text/html": [
              "\n",
              "  <div id=\"df-8d5c81e9-ec4a-4dbc-8c5b-daa1f51bd8d8\" class=\"colab-df-container\">\n",
              "    <div>\n",
              "<style scoped>\n",
              "    .dataframe tbody tr th:only-of-type {\n",
              "        vertical-align: middle;\n",
              "    }\n",
              "\n",
              "    .dataframe tbody tr th {\n",
              "        vertical-align: top;\n",
              "    }\n",
              "\n",
              "    .dataframe thead th {\n",
              "        text-align: right;\n",
              "    }\n",
              "</style>\n",
              "<table border=\"1\" class=\"dataframe\">\n",
              "  <thead>\n",
              "    <tr style=\"text-align: right;\">\n",
              "      <th></th>\n",
              "      <th>Year</th>\n",
              "      <th>Quarter</th>\n",
              "      <th>State1</th>\n",
              "      <th>temperature1</th>\n",
              "      <th>precepitation1</th>\n",
              "      <th>windspeed1</th>\n",
              "      <th>State2</th>\n",
              "      <th>temperature2</th>\n",
              "      <th>precepitation2</th>\n",
              "      <th>windspeed2</th>\n",
              "      <th>...</th>\n",
              "      <th>CarriersMktShare</th>\n",
              "      <th>CarrierAvgFare</th>\n",
              "      <th>Carrier_MinFareIncrement</th>\n",
              "      <th>CarrierMinPassangerShare</th>\n",
              "      <th>CarrierMaxFareIncrement</th>\n",
              "      <th>CarrierMaxPassengerShare</th>\n",
              "      <th>CarrierType</th>\n",
              "      <th>TDOMT_GALLONS</th>\n",
              "      <th>TDOMT_COST</th>\n",
              "      <th>distance</th>\n",
              "    </tr>\n",
              "  </thead>\n",
              "  <tbody>\n",
              "    <tr>\n",
              "      <th>0</th>\n",
              "      <td>2006</td>\n",
              "      <td>3</td>\n",
              "      <td>OR</td>\n",
              "      <td>9.894872</td>\n",
              "      <td>60.482353</td>\n",
              "      <td>11.634091</td>\n",
              "      <td>WA</td>\n",
              "      <td>10.280769</td>\n",
              "      <td>46.254167</td>\n",
              "      <td>12.184615</td>\n",
              "      <td>...</td>\n",
              "      <td>0.59</td>\n",
              "      <td>80.44</td>\n",
              "      <td>75</td>\n",
              "      <td>0.44</td>\n",
              "      <td>125</td>\n",
              "      <td>0.25</td>\n",
              "      <td>3.0</td>\n",
              "      <td>120723849.0</td>\n",
              "      <td>198330840.0</td>\n",
              "      <td>238.255775</td>\n",
              "    </tr>\n",
              "    <tr>\n",
              "      <th>1</th>\n",
              "      <td>2006</td>\n",
              "      <td>3</td>\n",
              "      <td>OR</td>\n",
              "      <td>9.894872</td>\n",
              "      <td>60.482353</td>\n",
              "      <td>11.634091</td>\n",
              "      <td>WA</td>\n",
              "      <td>10.280769</td>\n",
              "      <td>46.254167</td>\n",
              "      <td>12.184615</td>\n",
              "      <td>...</td>\n",
              "      <td>0.59</td>\n",
              "      <td>80.44</td>\n",
              "      <td>75</td>\n",
              "      <td>0.44</td>\n",
              "      <td>125</td>\n",
              "      <td>0.25</td>\n",
              "      <td>3.0</td>\n",
              "      <td>122313419.0</td>\n",
              "      <td>195732437.0</td>\n",
              "      <td>238.255775</td>\n",
              "    </tr>\n",
              "    <tr>\n",
              "      <th>2</th>\n",
              "      <td>2006</td>\n",
              "      <td>3</td>\n",
              "      <td>OR</td>\n",
              "      <td>9.894872</td>\n",
              "      <td>60.482353</td>\n",
              "      <td>11.634091</td>\n",
              "      <td>WA</td>\n",
              "      <td>10.280769</td>\n",
              "      <td>46.254167</td>\n",
              "      <td>12.184615</td>\n",
              "      <td>...</td>\n",
              "      <td>0.59</td>\n",
              "      <td>80.44</td>\n",
              "      <td>75</td>\n",
              "      <td>0.44</td>\n",
              "      <td>125</td>\n",
              "      <td>0.25</td>\n",
              "      <td>3.0</td>\n",
              "      <td>115493227.0</td>\n",
              "      <td>167256388.0</td>\n",
              "      <td>238.255775</td>\n",
              "    </tr>\n",
              "    <tr>\n",
              "      <th>3</th>\n",
              "      <td>1997</td>\n",
              "      <td>1</td>\n",
              "      <td>OR</td>\n",
              "      <td>5.538889</td>\n",
              "      <td>111.128571</td>\n",
              "      <td>11.460000</td>\n",
              "      <td>WA</td>\n",
              "      <td>3.626667</td>\n",
              "      <td>105.488462</td>\n",
              "      <td>14.235294</td>\n",
              "      <td>...</td>\n",
              "      <td>0.36</td>\n",
              "      <td>74.00</td>\n",
              "      <td>75</td>\n",
              "      <td>0.84</td>\n",
              "      <td>100</td>\n",
              "      <td>0.07</td>\n",
              "      <td>2.0</td>\n",
              "      <td>3563198.0</td>\n",
              "      <td>3241811.0</td>\n",
              "      <td>238.255775</td>\n",
              "    </tr>\n",
              "    <tr>\n",
              "      <th>4</th>\n",
              "      <td>1997</td>\n",
              "      <td>1</td>\n",
              "      <td>OR</td>\n",
              "      <td>5.538889</td>\n",
              "      <td>111.128571</td>\n",
              "      <td>11.460000</td>\n",
              "      <td>WA</td>\n",
              "      <td>3.626667</td>\n",
              "      <td>105.488462</td>\n",
              "      <td>14.235294</td>\n",
              "      <td>...</td>\n",
              "      <td>0.36</td>\n",
              "      <td>74.00</td>\n",
              "      <td>75</td>\n",
              "      <td>0.84</td>\n",
              "      <td>100</td>\n",
              "      <td>0.07</td>\n",
              "      <td>2.0</td>\n",
              "      <td>3189728.0</td>\n",
              "      <td>2946198.0</td>\n",
              "      <td>238.255775</td>\n",
              "    </tr>\n",
              "  </tbody>\n",
              "</table>\n",
              "<p>5 rows × 24 columns</p>\n",
              "</div>\n",
              "    <div class=\"colab-df-buttons\">\n",
              "\n",
              "  <div class=\"colab-df-container\">\n",
              "    <button class=\"colab-df-convert\" onclick=\"convertToInteractive('df-8d5c81e9-ec4a-4dbc-8c5b-daa1f51bd8d8')\"\n",
              "            title=\"Convert this dataframe to an interactive table.\"\n",
              "            style=\"display:none;\">\n",
              "\n",
              "  <svg xmlns=\"http://www.w3.org/2000/svg\" height=\"24px\" viewBox=\"0 -960 960 960\">\n",
              "    <path d=\"M120-120v-720h720v720H120Zm60-500h600v-160H180v160Zm220 220h160v-160H400v160Zm0 220h160v-160H400v160ZM180-400h160v-160H180v160Zm440 0h160v-160H620v160ZM180-180h160v-160H180v160Zm440 0h160v-160H620v160Z\"/>\n",
              "  </svg>\n",
              "    </button>\n",
              "\n",
              "  <style>\n",
              "    .colab-df-container {\n",
              "      display:flex;\n",
              "      gap: 12px;\n",
              "    }\n",
              "\n",
              "    .colab-df-convert {\n",
              "      background-color: #E8F0FE;\n",
              "      border: none;\n",
              "      border-radius: 50%;\n",
              "      cursor: pointer;\n",
              "      display: none;\n",
              "      fill: #1967D2;\n",
              "      height: 32px;\n",
              "      padding: 0 0 0 0;\n",
              "      width: 32px;\n",
              "    }\n",
              "\n",
              "    .colab-df-convert:hover {\n",
              "      background-color: #E2EBFA;\n",
              "      box-shadow: 0px 1px 2px rgba(60, 64, 67, 0.3), 0px 1px 3px 1px rgba(60, 64, 67, 0.15);\n",
              "      fill: #174EA6;\n",
              "    }\n",
              "\n",
              "    .colab-df-buttons div {\n",
              "      margin-bottom: 4px;\n",
              "    }\n",
              "\n",
              "    [theme=dark] .colab-df-convert {\n",
              "      background-color: #3B4455;\n",
              "      fill: #D2E3FC;\n",
              "    }\n",
              "\n",
              "    [theme=dark] .colab-df-convert:hover {\n",
              "      background-color: #434B5C;\n",
              "      box-shadow: 0px 1px 3px 1px rgba(0, 0, 0, 0.15);\n",
              "      filter: drop-shadow(0px 1px 2px rgba(0, 0, 0, 0.3));\n",
              "      fill: #FFFFFF;\n",
              "    }\n",
              "  </style>\n",
              "\n",
              "    <script>\n",
              "      const buttonEl =\n",
              "        document.querySelector('#df-8d5c81e9-ec4a-4dbc-8c5b-daa1f51bd8d8 button.colab-df-convert');\n",
              "      buttonEl.style.display =\n",
              "        google.colab.kernel.accessAllowed ? 'block' : 'none';\n",
              "\n",
              "      async function convertToInteractive(key) {\n",
              "        const element = document.querySelector('#df-8d5c81e9-ec4a-4dbc-8c5b-daa1f51bd8d8');\n",
              "        const dataTable =\n",
              "          await google.colab.kernel.invokeFunction('convertToInteractive',\n",
              "                                                    [key], {});\n",
              "        if (!dataTable) return;\n",
              "\n",
              "        const docLinkHtml = 'Like what you see? Visit the ' +\n",
              "          '<a target=\"_blank\" href=https://colab.research.google.com/notebooks/data_table.ipynb>data table notebook</a>'\n",
              "          + ' to learn more about interactive tables.';\n",
              "        element.innerHTML = '';\n",
              "        dataTable['output_type'] = 'display_data';\n",
              "        await google.colab.output.renderOutput(dataTable, element);\n",
              "        const docLink = document.createElement('div');\n",
              "        docLink.innerHTML = docLinkHtml;\n",
              "        element.appendChild(docLink);\n",
              "      }\n",
              "    </script>\n",
              "  </div>\n",
              "\n",
              "\n",
              "<div id=\"df-e70865bf-9e8b-4629-879b-ef2cc388c50c\">\n",
              "  <button class=\"colab-df-quickchart\" onclick=\"quickchart('df-e70865bf-9e8b-4629-879b-ef2cc388c50c')\"\n",
              "            title=\"Suggest charts\"\n",
              "            style=\"display:none;\">\n",
              "\n",
              "<svg xmlns=\"http://www.w3.org/2000/svg\" height=\"24px\"viewBox=\"0 0 24 24\"\n",
              "     width=\"24px\">\n",
              "    <g>\n",
              "        <path d=\"M19 3H5c-1.1 0-2 .9-2 2v14c0 1.1.9 2 2 2h14c1.1 0 2-.9 2-2V5c0-1.1-.9-2-2-2zM9 17H7v-7h2v7zm4 0h-2V7h2v10zm4 0h-2v-4h2v4z\"/>\n",
              "    </g>\n",
              "</svg>\n",
              "  </button>\n",
              "\n",
              "<style>\n",
              "  .colab-df-quickchart {\n",
              "      --bg-color: #E8F0FE;\n",
              "      --fill-color: #1967D2;\n",
              "      --hover-bg-color: #E2EBFA;\n",
              "      --hover-fill-color: #174EA6;\n",
              "      --disabled-fill-color: #AAA;\n",
              "      --disabled-bg-color: #DDD;\n",
              "  }\n",
              "\n",
              "  [theme=dark] .colab-df-quickchart {\n",
              "      --bg-color: #3B4455;\n",
              "      --fill-color: #D2E3FC;\n",
              "      --hover-bg-color: #434B5C;\n",
              "      --hover-fill-color: #FFFFFF;\n",
              "      --disabled-bg-color: #3B4455;\n",
              "      --disabled-fill-color: #666;\n",
              "  }\n",
              "\n",
              "  .colab-df-quickchart {\n",
              "    background-color: var(--bg-color);\n",
              "    border: none;\n",
              "    border-radius: 50%;\n",
              "    cursor: pointer;\n",
              "    display: none;\n",
              "    fill: var(--fill-color);\n",
              "    height: 32px;\n",
              "    padding: 0;\n",
              "    width: 32px;\n",
              "  }\n",
              "\n",
              "  .colab-df-quickchart:hover {\n",
              "    background-color: var(--hover-bg-color);\n",
              "    box-shadow: 0 1px 2px rgba(60, 64, 67, 0.3), 0 1px 3px 1px rgba(60, 64, 67, 0.15);\n",
              "    fill: var(--button-hover-fill-color);\n",
              "  }\n",
              "\n",
              "  .colab-df-quickchart-complete:disabled,\n",
              "  .colab-df-quickchart-complete:disabled:hover {\n",
              "    background-color: var(--disabled-bg-color);\n",
              "    fill: var(--disabled-fill-color);\n",
              "    box-shadow: none;\n",
              "  }\n",
              "\n",
              "  .colab-df-spinner {\n",
              "    border: 2px solid var(--fill-color);\n",
              "    border-color: transparent;\n",
              "    border-bottom-color: var(--fill-color);\n",
              "    animation:\n",
              "      spin 1s steps(1) infinite;\n",
              "  }\n",
              "\n",
              "  @keyframes spin {\n",
              "    0% {\n",
              "      border-color: transparent;\n",
              "      border-bottom-color: var(--fill-color);\n",
              "      border-left-color: var(--fill-color);\n",
              "    }\n",
              "    20% {\n",
              "      border-color: transparent;\n",
              "      border-left-color: var(--fill-color);\n",
              "      border-top-color: var(--fill-color);\n",
              "    }\n",
              "    30% {\n",
              "      border-color: transparent;\n",
              "      border-left-color: var(--fill-color);\n",
              "      border-top-color: var(--fill-color);\n",
              "      border-right-color: var(--fill-color);\n",
              "    }\n",
              "    40% {\n",
              "      border-color: transparent;\n",
              "      border-right-color: var(--fill-color);\n",
              "      border-top-color: var(--fill-color);\n",
              "    }\n",
              "    60% {\n",
              "      border-color: transparent;\n",
              "      border-right-color: var(--fill-color);\n",
              "    }\n",
              "    80% {\n",
              "      border-color: transparent;\n",
              "      border-right-color: var(--fill-color);\n",
              "      border-bottom-color: var(--fill-color);\n",
              "    }\n",
              "    90% {\n",
              "      border-color: transparent;\n",
              "      border-bottom-color: var(--fill-color);\n",
              "    }\n",
              "  }\n",
              "</style>\n",
              "\n",
              "  <script>\n",
              "    async function quickchart(key) {\n",
              "      const quickchartButtonEl =\n",
              "        document.querySelector('#' + key + ' button');\n",
              "      quickchartButtonEl.disabled = true;  // To prevent multiple clicks.\n",
              "      quickchartButtonEl.classList.add('colab-df-spinner');\n",
              "      try {\n",
              "        const charts = await google.colab.kernel.invokeFunction(\n",
              "            'suggestCharts', [key], {});\n",
              "      } catch (error) {\n",
              "        console.error('Error during call to suggestCharts:', error);\n",
              "      }\n",
              "      quickchartButtonEl.classList.remove('colab-df-spinner');\n",
              "      quickchartButtonEl.classList.add('colab-df-quickchart-complete');\n",
              "    }\n",
              "    (() => {\n",
              "      let quickchartButtonEl =\n",
              "        document.querySelector('#df-e70865bf-9e8b-4629-879b-ef2cc388c50c button');\n",
              "      quickchartButtonEl.style.display =\n",
              "        google.colab.kernel.accessAllowed ? 'block' : 'none';\n",
              "    })();\n",
              "  </script>\n",
              "</div>\n",
              "    </div>\n",
              "  </div>\n"
            ],
            "application/vnd.google.colaboratory.intrinsic+json": {
              "type": "dataframe",
              "variable_name": "df"
            }
          },
          "metadata": {},
          "execution_count": 8
        }
      ],
      "source": [
        "df = df.merge(distancesDF, on=['State1','State2'])\n",
        "df.to_csv('air_merge.csv', index=False)\n",
        "\n",
        "df.head()"
      ]
    },
    {
      "cell_type": "code",
      "execution_count": null,
      "id": "ea3a0b2a-ea29-4da8-93a9-442c8a04a1a8",
      "metadata": {
        "id": "ea3a0b2a-ea29-4da8-93a9-442c8a04a1a8",
        "outputId": "ddf87779-2fff-49a0-c0be-0fe6522c6536",
        "colab": {
          "base_uri": "https://localhost:8080/"
        }
      },
      "outputs": [
        {
          "output_type": "stream",
          "name": "stdout",
          "text": [
            "<class 'pandas.core.frame.DataFrame'>\n",
            "Int64Index: 34503 entries, 0 to 34502\n",
            "Data columns (total 24 columns):\n",
            " #   Column                    Non-Null Count  Dtype  \n",
            "---  ------                    --------------  -----  \n",
            " 0   Year                      34503 non-null  int64  \n",
            " 1   Quarter                   34503 non-null  int64  \n",
            " 2   State1                    34503 non-null  object \n",
            " 3   temperature1              34503 non-null  float64\n",
            " 4   precepitation1            34503 non-null  float64\n",
            " 5   windspeed1                34503 non-null  float64\n",
            " 6   State2                    34503 non-null  object \n",
            " 7   temperature2              34503 non-null  float64\n",
            " 8   precepitation2            34503 non-null  float64\n",
            " 9   windspeed2                34503 non-null  float64\n",
            " 10  airlineID                 34503 non-null  int64  \n",
            " 11  Carrier                   34503 non-null  object \n",
            " 12  Passengers_by_Carrier     34503 non-null  int64  \n",
            " 13  Total_Mkt_Fare            34503 non-null  float64\n",
            " 14  CarriersMktShare          34503 non-null  float64\n",
            " 15  CarrierAvgFare            34503 non-null  float64\n",
            " 16  Carrier_MinFareIncrement  34503 non-null  int64  \n",
            " 17  CarrierMinPassangerShare  34503 non-null  float64\n",
            " 18  CarrierMaxFareIncrement   34503 non-null  int64  \n",
            " 19  CarrierMaxPassengerShare  34503 non-null  float64\n",
            " 20  CarrierType               34501 non-null  float64\n",
            " 21  TDOMT_GALLONS             34501 non-null  float64\n",
            " 22  TDOMT_COST                34501 non-null  float64\n",
            " 23  distance                  34503 non-null  float64\n",
            "dtypes: float64(15), int64(6), object(3)\n",
            "memory usage: 6.6+ MB\n"
          ]
        }
      ],
      "source": [
        "df.info()"
      ]
    },
    {
      "cell_type": "code",
      "execution_count": null,
      "id": "ddc8c3dd-9d3a-49ed-999b-eb67389a7e23",
      "metadata": {
        "id": "ddc8c3dd-9d3a-49ed-999b-eb67389a7e23",
        "outputId": "d00a9912-5871-4f0d-9993-1ba0dc2174e5",
        "colab": {
          "base_uri": "https://localhost:8080/"
        }
      },
      "outputs": [
        {
          "output_type": "stream",
          "name": "stdout",
          "text": [
            "<class 'pandas.core.frame.DataFrame'>\n",
            "Int64Index: 34501 entries, 0 to 34502\n",
            "Data columns (total 24 columns):\n",
            " #   Column                    Non-Null Count  Dtype  \n",
            "---  ------                    --------------  -----  \n",
            " 0   Year                      34501 non-null  int64  \n",
            " 1   Quarter                   34501 non-null  int64  \n",
            " 2   State1                    34501 non-null  object \n",
            " 3   temperature1              34501 non-null  float64\n",
            " 4   precepitation1            34501 non-null  float64\n",
            " 5   windspeed1                34501 non-null  float64\n",
            " 6   State2                    34501 non-null  object \n",
            " 7   temperature2              34501 non-null  float64\n",
            " 8   precepitation2            34501 non-null  float64\n",
            " 9   windspeed2                34501 non-null  float64\n",
            " 10  airlineID                 34501 non-null  int64  \n",
            " 11  Carrier                   34501 non-null  object \n",
            " 12  Passengers_by_Carrier     34501 non-null  int64  \n",
            " 13  Total_Mkt_Fare            34501 non-null  float64\n",
            " 14  CarriersMktShare          34501 non-null  float64\n",
            " 15  CarrierAvgFare            34501 non-null  float64\n",
            " 16  Carrier_MinFareIncrement  34501 non-null  int64  \n",
            " 17  CarrierMinPassangerShare  34501 non-null  float64\n",
            " 18  CarrierMaxFareIncrement   34501 non-null  int64  \n",
            " 19  CarrierMaxPassengerShare  34501 non-null  float64\n",
            " 20  CarrierType               34501 non-null  float64\n",
            " 21  TDOMT_GALLONS             34501 non-null  float64\n",
            " 22  TDOMT_COST                34501 non-null  float64\n",
            " 23  distance                  34501 non-null  float64\n",
            "dtypes: float64(15), int64(6), object(3)\n",
            "memory usage: 6.6+ MB\n"
          ]
        }
      ],
      "source": [
        "df = df[~df.TDOMT_GALLONS.isnull()]\n",
        "\n",
        "df.info()"
      ]
    },
    {
      "cell_type": "code",
      "execution_count": null,
      "id": "f12c67aa-b444-4f2f-b684-a83e6516f047",
      "metadata": {
        "id": "f12c67aa-b444-4f2f-b684-a83e6516f047"
      },
      "outputs": [],
      "source": [
        "df.drop(columns='Carrier', inplace=True)"
      ]
    },
    {
      "cell_type": "code",
      "execution_count": null,
      "id": "41bdcdbf-fc1f-427d-a919-75e4205f8316",
      "metadata": {
        "id": "41bdcdbf-fc1f-427d-a919-75e4205f8316",
        "colab": {
          "base_uri": "https://localhost:8080/"
        },
        "outputId": "0f8bfff9-1432-471a-8d39-736647983d4f"
      },
      "outputs": [
        {
          "output_type": "stream",
          "name": "stdout",
          "text": [
            "['AL', 'AR', 'AZ', 'CA', 'CO', 'CT', 'DC', 'FL', 'GA', 'IA', 'ID', 'IL', 'IN', 'KS', 'KY', 'LA', 'MA', 'ME', 'MI', 'MN', 'MO', 'MS', 'MT', 'NC', 'NE', 'NH', 'NJ', 'NM', 'NV', 'NY', 'OH', 'OK', 'OR', 'PA', 'SC', 'TN', 'TX', 'UT', 'VA', 'VT', 'WA', 'WI', 'WV']\n"
          ]
        }
      ],
      "source": [
        "states1 = df.State1.unique()\n",
        "states2 = df.State2.unique()\n",
        "states = list(np.unique(np.append(states1, states2)))\n",
        "\n",
        "print(states)"
      ]
    },
    {
      "cell_type": "code",
      "execution_count": null,
      "id": "4dbbf5e7-6201-4156-bafe-dfe44b025f45",
      "metadata": {
        "id": "4dbbf5e7-6201-4156-bafe-dfe44b025f45",
        "outputId": "8cba3da0-73d6-43c5-f32b-373f9bb3de90",
        "colab": {
          "base_uri": "https://localhost:8080/"
        }
      },
      "outputs": [
        {
          "output_type": "stream",
          "name": "stdout",
          "text": [
            "{'AL': 1, 'AR': 2, 'AZ': 3, 'CA': 4, 'CO': 5, 'CT': 6, 'DC': 7, 'FL': 8, 'GA': 9, 'IA': 10, 'ID': 11, 'IL': 12, 'IN': 13, 'KS': 14, 'KY': 15, 'LA': 16, 'MA': 17, 'ME': 18, 'MI': 19, 'MN': 20, 'MO': 21, 'MS': 22, 'MT': 23, 'NC': 24, 'NE': 25, 'NH': 26, 'NJ': 27, 'NM': 28, 'NV': 29, 'NY': 30, 'OH': 31, 'OK': 32, 'OR': 33, 'PA': 34, 'SC': 35, 'TN': 36, 'TX': 37, 'UT': 38, 'VA': 39, 'VT': 40, 'WA': 41, 'WI': 42, 'WV': 43}\n"
          ]
        }
      ],
      "source": [
        "state_dict = {x: index for index, x in enumerate(states, start=1)}\n",
        "\n",
        "print(state_dict)"
      ]
    },
    {
      "cell_type": "code",
      "execution_count": null,
      "id": "7b29b3df-8623-4241-bbfe-ecc2f9e6987b",
      "metadata": {
        "id": "7b29b3df-8623-4241-bbfe-ecc2f9e6987b",
        "outputId": "199a6199-1587-4b96-f94e-69497aae2995",
        "colab": {
          "base_uri": "https://localhost:8080/",
          "height": 256
        }
      },
      "outputs": [
        {
          "output_type": "execute_result",
          "data": {
            "text/plain": [
              "   Year  Quarter  State1  temperature1  precepitation1  windspeed1  State2  \\\n",
              "0  2006        3      33      9.894872       60.482353   11.634091      41   \n",
              "1  2006        3      33      9.894872       60.482353   11.634091      41   \n",
              "2  2006        3      33      9.894872       60.482353   11.634091      41   \n",
              "3  1997        1      33      5.538889      111.128571   11.460000      41   \n",
              "4  1997        1      33      5.538889      111.128571   11.460000      41   \n",
              "\n",
              "   temperature2  precepitation2  windspeed2  ...  CarriersMktShare  \\\n",
              "0     10.280769       46.254167   12.184615  ...              0.59   \n",
              "1     10.280769       46.254167   12.184615  ...              0.59   \n",
              "2     10.280769       46.254167   12.184615  ...              0.59   \n",
              "3      3.626667      105.488462   14.235294  ...              0.36   \n",
              "4      3.626667      105.488462   14.235294  ...              0.36   \n",
              "\n",
              "   CarrierAvgFare  Carrier_MinFareIncrement  CarrierMinPassangerShare  \\\n",
              "0           80.44                        75                      0.44   \n",
              "1           80.44                        75                      0.44   \n",
              "2           80.44                        75                      0.44   \n",
              "3           74.00                        75                      0.84   \n",
              "4           74.00                        75                      0.84   \n",
              "\n",
              "   CarrierMaxFareIncrement  CarrierMaxPassengerShare  CarrierType  \\\n",
              "0                      125                      0.25          3.0   \n",
              "1                      125                      0.25          3.0   \n",
              "2                      125                      0.25          3.0   \n",
              "3                      100                      0.07          2.0   \n",
              "4                      100                      0.07          2.0   \n",
              "\n",
              "   TDOMT_GALLONS   TDOMT_COST    distance  \n",
              "0    120723849.0  198330840.0  238.255775  \n",
              "1    122313419.0  195732437.0  238.255775  \n",
              "2    115493227.0  167256388.0  238.255775  \n",
              "3      3563198.0    3241811.0  238.255775  \n",
              "4      3189728.0    2946198.0  238.255775  \n",
              "\n",
              "[5 rows x 23 columns]"
            ],
            "text/html": [
              "\n",
              "  <div id=\"df-330ed07c-7dc2-48c2-a94f-b17c0b1737ed\" class=\"colab-df-container\">\n",
              "    <div>\n",
              "<style scoped>\n",
              "    .dataframe tbody tr th:only-of-type {\n",
              "        vertical-align: middle;\n",
              "    }\n",
              "\n",
              "    .dataframe tbody tr th {\n",
              "        vertical-align: top;\n",
              "    }\n",
              "\n",
              "    .dataframe thead th {\n",
              "        text-align: right;\n",
              "    }\n",
              "</style>\n",
              "<table border=\"1\" class=\"dataframe\">\n",
              "  <thead>\n",
              "    <tr style=\"text-align: right;\">\n",
              "      <th></th>\n",
              "      <th>Year</th>\n",
              "      <th>Quarter</th>\n",
              "      <th>State1</th>\n",
              "      <th>temperature1</th>\n",
              "      <th>precepitation1</th>\n",
              "      <th>windspeed1</th>\n",
              "      <th>State2</th>\n",
              "      <th>temperature2</th>\n",
              "      <th>precepitation2</th>\n",
              "      <th>windspeed2</th>\n",
              "      <th>...</th>\n",
              "      <th>CarriersMktShare</th>\n",
              "      <th>CarrierAvgFare</th>\n",
              "      <th>Carrier_MinFareIncrement</th>\n",
              "      <th>CarrierMinPassangerShare</th>\n",
              "      <th>CarrierMaxFareIncrement</th>\n",
              "      <th>CarrierMaxPassengerShare</th>\n",
              "      <th>CarrierType</th>\n",
              "      <th>TDOMT_GALLONS</th>\n",
              "      <th>TDOMT_COST</th>\n",
              "      <th>distance</th>\n",
              "    </tr>\n",
              "  </thead>\n",
              "  <tbody>\n",
              "    <tr>\n",
              "      <th>0</th>\n",
              "      <td>2006</td>\n",
              "      <td>3</td>\n",
              "      <td>33</td>\n",
              "      <td>9.894872</td>\n",
              "      <td>60.482353</td>\n",
              "      <td>11.634091</td>\n",
              "      <td>41</td>\n",
              "      <td>10.280769</td>\n",
              "      <td>46.254167</td>\n",
              "      <td>12.184615</td>\n",
              "      <td>...</td>\n",
              "      <td>0.59</td>\n",
              "      <td>80.44</td>\n",
              "      <td>75</td>\n",
              "      <td>0.44</td>\n",
              "      <td>125</td>\n",
              "      <td>0.25</td>\n",
              "      <td>3.0</td>\n",
              "      <td>120723849.0</td>\n",
              "      <td>198330840.0</td>\n",
              "      <td>238.255775</td>\n",
              "    </tr>\n",
              "    <tr>\n",
              "      <th>1</th>\n",
              "      <td>2006</td>\n",
              "      <td>3</td>\n",
              "      <td>33</td>\n",
              "      <td>9.894872</td>\n",
              "      <td>60.482353</td>\n",
              "      <td>11.634091</td>\n",
              "      <td>41</td>\n",
              "      <td>10.280769</td>\n",
              "      <td>46.254167</td>\n",
              "      <td>12.184615</td>\n",
              "      <td>...</td>\n",
              "      <td>0.59</td>\n",
              "      <td>80.44</td>\n",
              "      <td>75</td>\n",
              "      <td>0.44</td>\n",
              "      <td>125</td>\n",
              "      <td>0.25</td>\n",
              "      <td>3.0</td>\n",
              "      <td>122313419.0</td>\n",
              "      <td>195732437.0</td>\n",
              "      <td>238.255775</td>\n",
              "    </tr>\n",
              "    <tr>\n",
              "      <th>2</th>\n",
              "      <td>2006</td>\n",
              "      <td>3</td>\n",
              "      <td>33</td>\n",
              "      <td>9.894872</td>\n",
              "      <td>60.482353</td>\n",
              "      <td>11.634091</td>\n",
              "      <td>41</td>\n",
              "      <td>10.280769</td>\n",
              "      <td>46.254167</td>\n",
              "      <td>12.184615</td>\n",
              "      <td>...</td>\n",
              "      <td>0.59</td>\n",
              "      <td>80.44</td>\n",
              "      <td>75</td>\n",
              "      <td>0.44</td>\n",
              "      <td>125</td>\n",
              "      <td>0.25</td>\n",
              "      <td>3.0</td>\n",
              "      <td>115493227.0</td>\n",
              "      <td>167256388.0</td>\n",
              "      <td>238.255775</td>\n",
              "    </tr>\n",
              "    <tr>\n",
              "      <th>3</th>\n",
              "      <td>1997</td>\n",
              "      <td>1</td>\n",
              "      <td>33</td>\n",
              "      <td>5.538889</td>\n",
              "      <td>111.128571</td>\n",
              "      <td>11.460000</td>\n",
              "      <td>41</td>\n",
              "      <td>3.626667</td>\n",
              "      <td>105.488462</td>\n",
              "      <td>14.235294</td>\n",
              "      <td>...</td>\n",
              "      <td>0.36</td>\n",
              "      <td>74.00</td>\n",
              "      <td>75</td>\n",
              "      <td>0.84</td>\n",
              "      <td>100</td>\n",
              "      <td>0.07</td>\n",
              "      <td>2.0</td>\n",
              "      <td>3563198.0</td>\n",
              "      <td>3241811.0</td>\n",
              "      <td>238.255775</td>\n",
              "    </tr>\n",
              "    <tr>\n",
              "      <th>4</th>\n",
              "      <td>1997</td>\n",
              "      <td>1</td>\n",
              "      <td>33</td>\n",
              "      <td>5.538889</td>\n",
              "      <td>111.128571</td>\n",
              "      <td>11.460000</td>\n",
              "      <td>41</td>\n",
              "      <td>3.626667</td>\n",
              "      <td>105.488462</td>\n",
              "      <td>14.235294</td>\n",
              "      <td>...</td>\n",
              "      <td>0.36</td>\n",
              "      <td>74.00</td>\n",
              "      <td>75</td>\n",
              "      <td>0.84</td>\n",
              "      <td>100</td>\n",
              "      <td>0.07</td>\n",
              "      <td>2.0</td>\n",
              "      <td>3189728.0</td>\n",
              "      <td>2946198.0</td>\n",
              "      <td>238.255775</td>\n",
              "    </tr>\n",
              "  </tbody>\n",
              "</table>\n",
              "<p>5 rows × 23 columns</p>\n",
              "</div>\n",
              "    <div class=\"colab-df-buttons\">\n",
              "\n",
              "  <div class=\"colab-df-container\">\n",
              "    <button class=\"colab-df-convert\" onclick=\"convertToInteractive('df-330ed07c-7dc2-48c2-a94f-b17c0b1737ed')\"\n",
              "            title=\"Convert this dataframe to an interactive table.\"\n",
              "            style=\"display:none;\">\n",
              "\n",
              "  <svg xmlns=\"http://www.w3.org/2000/svg\" height=\"24px\" viewBox=\"0 -960 960 960\">\n",
              "    <path d=\"M120-120v-720h720v720H120Zm60-500h600v-160H180v160Zm220 220h160v-160H400v160Zm0 220h160v-160H400v160ZM180-400h160v-160H180v160Zm440 0h160v-160H620v160ZM180-180h160v-160H180v160Zm440 0h160v-160H620v160Z\"/>\n",
              "  </svg>\n",
              "    </button>\n",
              "\n",
              "  <style>\n",
              "    .colab-df-container {\n",
              "      display:flex;\n",
              "      gap: 12px;\n",
              "    }\n",
              "\n",
              "    .colab-df-convert {\n",
              "      background-color: #E8F0FE;\n",
              "      border: none;\n",
              "      border-radius: 50%;\n",
              "      cursor: pointer;\n",
              "      display: none;\n",
              "      fill: #1967D2;\n",
              "      height: 32px;\n",
              "      padding: 0 0 0 0;\n",
              "      width: 32px;\n",
              "    }\n",
              "\n",
              "    .colab-df-convert:hover {\n",
              "      background-color: #E2EBFA;\n",
              "      box-shadow: 0px 1px 2px rgba(60, 64, 67, 0.3), 0px 1px 3px 1px rgba(60, 64, 67, 0.15);\n",
              "      fill: #174EA6;\n",
              "    }\n",
              "\n",
              "    .colab-df-buttons div {\n",
              "      margin-bottom: 4px;\n",
              "    }\n",
              "\n",
              "    [theme=dark] .colab-df-convert {\n",
              "      background-color: #3B4455;\n",
              "      fill: #D2E3FC;\n",
              "    }\n",
              "\n",
              "    [theme=dark] .colab-df-convert:hover {\n",
              "      background-color: #434B5C;\n",
              "      box-shadow: 0px 1px 3px 1px rgba(0, 0, 0, 0.15);\n",
              "      filter: drop-shadow(0px 1px 2px rgba(0, 0, 0, 0.3));\n",
              "      fill: #FFFFFF;\n",
              "    }\n",
              "  </style>\n",
              "\n",
              "    <script>\n",
              "      const buttonEl =\n",
              "        document.querySelector('#df-330ed07c-7dc2-48c2-a94f-b17c0b1737ed button.colab-df-convert');\n",
              "      buttonEl.style.display =\n",
              "        google.colab.kernel.accessAllowed ? 'block' : 'none';\n",
              "\n",
              "      async function convertToInteractive(key) {\n",
              "        const element = document.querySelector('#df-330ed07c-7dc2-48c2-a94f-b17c0b1737ed');\n",
              "        const dataTable =\n",
              "          await google.colab.kernel.invokeFunction('convertToInteractive',\n",
              "                                                    [key], {});\n",
              "        if (!dataTable) return;\n",
              "\n",
              "        const docLinkHtml = 'Like what you see? Visit the ' +\n",
              "          '<a target=\"_blank\" href=https://colab.research.google.com/notebooks/data_table.ipynb>data table notebook</a>'\n",
              "          + ' to learn more about interactive tables.';\n",
              "        element.innerHTML = '';\n",
              "        dataTable['output_type'] = 'display_data';\n",
              "        await google.colab.output.renderOutput(dataTable, element);\n",
              "        const docLink = document.createElement('div');\n",
              "        docLink.innerHTML = docLinkHtml;\n",
              "        element.appendChild(docLink);\n",
              "      }\n",
              "    </script>\n",
              "  </div>\n",
              "\n",
              "\n",
              "<div id=\"df-10540d4f-ccff-40d3-a606-b4b0708ec1d4\">\n",
              "  <button class=\"colab-df-quickchart\" onclick=\"quickchart('df-10540d4f-ccff-40d3-a606-b4b0708ec1d4')\"\n",
              "            title=\"Suggest charts\"\n",
              "            style=\"display:none;\">\n",
              "\n",
              "<svg xmlns=\"http://www.w3.org/2000/svg\" height=\"24px\"viewBox=\"0 0 24 24\"\n",
              "     width=\"24px\">\n",
              "    <g>\n",
              "        <path d=\"M19 3H5c-1.1 0-2 .9-2 2v14c0 1.1.9 2 2 2h14c1.1 0 2-.9 2-2V5c0-1.1-.9-2-2-2zM9 17H7v-7h2v7zm4 0h-2V7h2v10zm4 0h-2v-4h2v4z\"/>\n",
              "    </g>\n",
              "</svg>\n",
              "  </button>\n",
              "\n",
              "<style>\n",
              "  .colab-df-quickchart {\n",
              "      --bg-color: #E8F0FE;\n",
              "      --fill-color: #1967D2;\n",
              "      --hover-bg-color: #E2EBFA;\n",
              "      --hover-fill-color: #174EA6;\n",
              "      --disabled-fill-color: #AAA;\n",
              "      --disabled-bg-color: #DDD;\n",
              "  }\n",
              "\n",
              "  [theme=dark] .colab-df-quickchart {\n",
              "      --bg-color: #3B4455;\n",
              "      --fill-color: #D2E3FC;\n",
              "      --hover-bg-color: #434B5C;\n",
              "      --hover-fill-color: #FFFFFF;\n",
              "      --disabled-bg-color: #3B4455;\n",
              "      --disabled-fill-color: #666;\n",
              "  }\n",
              "\n",
              "  .colab-df-quickchart {\n",
              "    background-color: var(--bg-color);\n",
              "    border: none;\n",
              "    border-radius: 50%;\n",
              "    cursor: pointer;\n",
              "    display: none;\n",
              "    fill: var(--fill-color);\n",
              "    height: 32px;\n",
              "    padding: 0;\n",
              "    width: 32px;\n",
              "  }\n",
              "\n",
              "  .colab-df-quickchart:hover {\n",
              "    background-color: var(--hover-bg-color);\n",
              "    box-shadow: 0 1px 2px rgba(60, 64, 67, 0.3), 0 1px 3px 1px rgba(60, 64, 67, 0.15);\n",
              "    fill: var(--button-hover-fill-color);\n",
              "  }\n",
              "\n",
              "  .colab-df-quickchart-complete:disabled,\n",
              "  .colab-df-quickchart-complete:disabled:hover {\n",
              "    background-color: var(--disabled-bg-color);\n",
              "    fill: var(--disabled-fill-color);\n",
              "    box-shadow: none;\n",
              "  }\n",
              "\n",
              "  .colab-df-spinner {\n",
              "    border: 2px solid var(--fill-color);\n",
              "    border-color: transparent;\n",
              "    border-bottom-color: var(--fill-color);\n",
              "    animation:\n",
              "      spin 1s steps(1) infinite;\n",
              "  }\n",
              "\n",
              "  @keyframes spin {\n",
              "    0% {\n",
              "      border-color: transparent;\n",
              "      border-bottom-color: var(--fill-color);\n",
              "      border-left-color: var(--fill-color);\n",
              "    }\n",
              "    20% {\n",
              "      border-color: transparent;\n",
              "      border-left-color: var(--fill-color);\n",
              "      border-top-color: var(--fill-color);\n",
              "    }\n",
              "    30% {\n",
              "      border-color: transparent;\n",
              "      border-left-color: var(--fill-color);\n",
              "      border-top-color: var(--fill-color);\n",
              "      border-right-color: var(--fill-color);\n",
              "    }\n",
              "    40% {\n",
              "      border-color: transparent;\n",
              "      border-right-color: var(--fill-color);\n",
              "      border-top-color: var(--fill-color);\n",
              "    }\n",
              "    60% {\n",
              "      border-color: transparent;\n",
              "      border-right-color: var(--fill-color);\n",
              "    }\n",
              "    80% {\n",
              "      border-color: transparent;\n",
              "      border-right-color: var(--fill-color);\n",
              "      border-bottom-color: var(--fill-color);\n",
              "    }\n",
              "    90% {\n",
              "      border-color: transparent;\n",
              "      border-bottom-color: var(--fill-color);\n",
              "    }\n",
              "  }\n",
              "</style>\n",
              "\n",
              "  <script>\n",
              "    async function quickchart(key) {\n",
              "      const quickchartButtonEl =\n",
              "        document.querySelector('#' + key + ' button');\n",
              "      quickchartButtonEl.disabled = true;  // To prevent multiple clicks.\n",
              "      quickchartButtonEl.classList.add('colab-df-spinner');\n",
              "      try {\n",
              "        const charts = await google.colab.kernel.invokeFunction(\n",
              "            'suggestCharts', [key], {});\n",
              "      } catch (error) {\n",
              "        console.error('Error during call to suggestCharts:', error);\n",
              "      }\n",
              "      quickchartButtonEl.classList.remove('colab-df-spinner');\n",
              "      quickchartButtonEl.classList.add('colab-df-quickchart-complete');\n",
              "    }\n",
              "    (() => {\n",
              "      let quickchartButtonEl =\n",
              "        document.querySelector('#df-10540d4f-ccff-40d3-a606-b4b0708ec1d4 button');\n",
              "      quickchartButtonEl.style.display =\n",
              "        google.colab.kernel.accessAllowed ? 'block' : 'none';\n",
              "    })();\n",
              "  </script>\n",
              "</div>\n",
              "    </div>\n",
              "  </div>\n"
            ],
            "application/vnd.google.colaboratory.intrinsic+json": {
              "type": "dataframe",
              "variable_name": "df"
            }
          },
          "metadata": {},
          "execution_count": 15
        }
      ],
      "source": [
        "df = df.replace({'State1': state_dict, 'State2': state_dict})\n",
        "\n",
        "df.head()"
      ]
    },
    {
      "cell_type": "code",
      "execution_count": null,
      "id": "b96e8d86-21ab-4288-8d9a-7f4bf1236484",
      "metadata": {
        "id": "b96e8d86-21ab-4288-8d9a-7f4bf1236484",
        "outputId": "9c227db5-cc1a-4b42-d763-c1ffbd878e2e",
        "colab": {
          "base_uri": "https://localhost:8080/"
        }
      },
      "outputs": [
        {
          "output_type": "stream",
          "name": "stdout",
          "text": [
            "<class 'pandas.core.frame.DataFrame'>\n",
            "Int64Index: 34501 entries, 0 to 34502\n",
            "Data columns (total 23 columns):\n",
            " #   Column                    Non-Null Count  Dtype  \n",
            "---  ------                    --------------  -----  \n",
            " 0   Year                      34501 non-null  int64  \n",
            " 1   Quarter                   34501 non-null  int64  \n",
            " 2   State1                    34501 non-null  int64  \n",
            " 3   temperature1              34501 non-null  float64\n",
            " 4   precepitation1            34501 non-null  float64\n",
            " 5   windspeed1                34501 non-null  float64\n",
            " 6   State2                    34501 non-null  int64  \n",
            " 7   temperature2              34501 non-null  float64\n",
            " 8   precepitation2            34501 non-null  float64\n",
            " 9   windspeed2                34501 non-null  float64\n",
            " 10  airlineID                 34501 non-null  int64  \n",
            " 11  Passengers_by_Carrier     34501 non-null  int64  \n",
            " 12  Total_Mkt_Fare            34501 non-null  float64\n",
            " 13  CarriersMktShare          34501 non-null  float64\n",
            " 14  CarrierAvgFare            34501 non-null  float64\n",
            " 15  Carrier_MinFareIncrement  34501 non-null  int64  \n",
            " 16  CarrierMinPassangerShare  34501 non-null  float64\n",
            " 17  CarrierMaxFareIncrement   34501 non-null  int64  \n",
            " 18  CarrierMaxPassengerShare  34501 non-null  float64\n",
            " 19  CarrierType               34501 non-null  float64\n",
            " 20  TDOMT_GALLONS             34501 non-null  float64\n",
            " 21  TDOMT_COST                34501 non-null  float64\n",
            " 22  distance                  34501 non-null  float64\n",
            "dtypes: float64(15), int64(8)\n",
            "memory usage: 6.3 MB\n"
          ]
        }
      ],
      "source": [
        "df.info()"
      ]
    },
    {
      "cell_type": "code",
      "execution_count": null,
      "id": "9e0b93fb-f34c-459b-8347-cb700fe8521a",
      "metadata": {
        "id": "9e0b93fb-f34c-459b-8347-cb700fe8521a"
      },
      "outputs": [],
      "source": [
        "from sklearn.model_selection import train_test_split\n",
        "\n",
        "a = df.to_numpy()\n",
        "X = np.delete(a, 12, axis=1)\n",
        "y = a[:, 12]\n",
        "X_train, X_test, y_train, y_test = train_test_split(X, y, test_size=0.33, random_state=42)"
      ]
    },
    {
      "cell_type": "code",
      "execution_count": null,
      "id": "37ee9740-8671-4a94-858d-a21516383107",
      "metadata": {
        "id": "37ee9740-8671-4a94-858d-a21516383107",
        "outputId": "4be516c4-bad5-42ef-cc31-a31683046f3b",
        "colab": {
          "base_uri": "https://localhost:8080/"
        }
      },
      "outputs": [
        {
          "output_type": "execute_result",
          "data": {
            "text/plain": [
              "((23115, 22), (23115,), (11386, 22), (11386,))"
            ]
          },
          "metadata": {},
          "execution_count": 19
        }
      ],
      "source": [
        "X_train.shape, y_train.shape, X_test.shape, y_test.shape"
      ]
    },
    {
      "cell_type": "code",
      "execution_count": null,
      "id": "7cc10bf1-bb4a-43d3-b565-fd5754b57ca6",
      "metadata": {
        "id": "7cc10bf1-bb4a-43d3-b565-fd5754b57ca6"
      },
      "outputs": [],
      "source": [
        "def RMSE(y, ypred):\n",
        "    differences = [(x-y)**2 for x, y in zip(ypred, y)]\n",
        "\n",
        "    return np.sqrt(sum(differences) / len(differences))\n",
        "\n",
        "def MAE(y, ypred):\n",
        "    return abs(y-ypred).mean()\n",
        "\n",
        "def get_acc(y, ypred):\n",
        "    correct = []\n",
        "\n",
        "    for i in range(len(y)):\n",
        "        correct.append(y[i]==ypred[i])\n",
        "\n",
        "    return sum(correct) / len(correct)"
      ]
    },
    {
      "cell_type": "code",
      "execution_count": null,
      "id": "c8a67c74-8c8a-45d1-ae80-08ee918ab678",
      "metadata": {
        "id": "c8a67c74-8c8a-45d1-ae80-08ee918ab678",
        "outputId": "aa77f849-42c8-4035-869c-5d0836821b06",
        "colab": {
          "base_uri": "https://localhost:8080/"
        }
      },
      "outputs": [
        {
          "output_type": "execute_result",
          "data": {
            "text/plain": [
              "0.9411117280694394"
            ]
          },
          "metadata": {},
          "execution_count": 21
        }
      ],
      "source": [
        "from sklearn.linear_model import LinearRegression\n",
        "\n",
        "clf = LinearRegression()\n",
        "reg = clf.fit(X_train, y_train)\n",
        "reg.score(X_train, y_train)"
      ]
    },
    {
      "cell_type": "code",
      "execution_count": null,
      "id": "fbc92db6-7e13-41b2-9054-00e5acbdf9a3",
      "metadata": {
        "id": "fbc92db6-7e13-41b2-9054-00e5acbdf9a3",
        "outputId": "96ea8fbf-bb3d-4735-884c-9cbe23a27ecd",
        "colab": {
          "base_uri": "https://localhost:8080/"
        }
      },
      "outputs": [
        {
          "output_type": "stream",
          "name": "stdout",
          "text": [
            "Linear Regression RMSE: 22.143237777692942, MAE: 14.243047441613044\n"
          ]
        }
      ],
      "source": [
        "preds = reg.predict(X_test)\n",
        "rmse = RMSE(y_test, preds)\n",
        "mae = MAE(y_test, preds)\n",
        "print('Linear Regression RMSE: {}, MAE: {}'.format(rmse, mae))"
      ]
    },
    {
      "cell_type": "code",
      "execution_count": null,
      "id": "a78a73bc-572f-4c1e-9866-c89f19decef3",
      "metadata": {
        "id": "a78a73bc-572f-4c1e-9866-c89f19decef3"
      },
      "outputs": [],
      "source": [
        "# classify y_train and y_test data\n",
        "train = [int(y/100) for y in y_train]\n",
        "test = [int(y/100) for y in y_test]"
      ]
    },
    {
      "cell_type": "code",
      "execution_count": null,
      "id": "13726b7c-9872-4644-9c52-ab9d2b6500a4",
      "metadata": {
        "id": "13726b7c-9872-4644-9c52-ab9d2b6500a4",
        "outputId": "5d52724f-2912-45b6-ee7f-383c11353d34",
        "colab": {
          "base_uri": "https://localhost:8080/"
        }
      },
      "outputs": [
        {
          "output_type": "execute_result",
          "data": {
            "text/plain": [
              "1.0"
            ]
          },
          "metadata": {},
          "execution_count": 24
        }
      ],
      "source": [
        "from sklearn.ensemble import RandomForestClassifier\n",
        "\n",
        "clf = RandomForestClassifier(max_depth=20, random_state=0)\n",
        "randf = clf.fit(X_train, train)\n",
        "randf.score(X_train, train)"
      ]
    },
    {
      "cell_type": "code",
      "execution_count": null,
      "id": "bf0b7764-94e5-41a1-908c-b86def24c756",
      "metadata": {
        "id": "bf0b7764-94e5-41a1-908c-b86def24c756",
        "outputId": "ce44a867-de6f-4f00-de29-490dd979e30a",
        "colab": {
          "base_uri": "https://localhost:8080/"
        }
      },
      "outputs": [
        {
          "output_type": "stream",
          "name": "stdout",
          "text": [
            "Accuracy for Random Forest model: 0.9946425434744423\n"
          ]
        }
      ],
      "source": [
        "preds = randf.predict(X_test)\n",
        "print('Accuracy for Random Forest model: {}'.format(get_acc(test, preds)))"
      ]
    },
    {
      "cell_type": "code",
      "execution_count": null,
      "id": "8f3e9abf-6364-445e-8b7d-7fb741a92511",
      "metadata": {
        "id": "8f3e9abf-6364-445e-8b7d-7fb741a92511",
        "outputId": "e32e5680-04ef-434a-9fa3-266f25ad1001",
        "colab": {
          "base_uri": "https://localhost:8080/"
        }
      },
      "outputs": [
        {
          "output_type": "execute_result",
          "data": {
            "text/plain": [
              "0.5899199653904391"
            ]
          },
          "metadata": {},
          "execution_count": 26
        }
      ],
      "source": [
        "from sklearn.naive_bayes import GaussianNB\n",
        "\n",
        "clf = GaussianNB()\n",
        "gnb = clf.fit(X_train, train)\n",
        "gnb.score(X_train, train)"
      ]
    },
    {
      "cell_type": "code",
      "execution_count": null,
      "id": "1bf8b797-c86f-41e5-8f5f-1e1f061e6a9a",
      "metadata": {
        "id": "1bf8b797-c86f-41e5-8f5f-1e1f061e6a9a",
        "outputId": "6b8b38bf-e43a-4ee0-883f-e7541e2b5754",
        "colab": {
          "base_uri": "https://localhost:8080/"
        }
      },
      "outputs": [
        {
          "output_type": "stream",
          "name": "stdout",
          "text": [
            "Accuracy for Naive Bayes model: 0.6022308097663798\n"
          ]
        }
      ],
      "source": [
        "preds = gnb.predict(X_test)\n",
        "print('Accuracy for Naive Bayes model: {}'.format(get_acc(test, preds)))"
      ]
    },
    {
      "cell_type": "code",
      "execution_count": null,
      "id": "7c0303c0-5c4e-4152-89b1-8ce195bebd3b",
      "metadata": {
        "id": "7c0303c0-5c4e-4152-89b1-8ce195bebd3b",
        "outputId": "a11f773c-494e-4db1-ef1e-9d8c08b354e3",
        "colab": {
          "base_uri": "https://localhost:8080/"
        }
      },
      "outputs": [
        {
          "output_type": "execute_result",
          "data": {
            "text/plain": [
              "0.40302833657797965"
            ]
          },
          "metadata": {},
          "execution_count": 28
        }
      ],
      "source": [
        "from sklearn.linear_model import LogisticRegression\n",
        "from sklearn.model_selection import RandomizedSearchCV\n",
        "from scipy.stats import uniform\n",
        "\n",
        "logistic = LogisticRegression(solver='saga', tol=1e-2, max_iter=200, random_state=0)\n",
        "distributions = dict(C=uniform(loc=0, scale=4), penalty=['l2', 'l1'])\n",
        "clf = RandomizedSearchCV(logistic, distributions, random_state=0)\n",
        "search = clf.fit(X_train, train)\n",
        "search.score(X_train, train)l"
      ]
    },
    {
      "cell_type": "code",
      "execution_count": null,
      "id": "d3f13e4b-2582-4cdc-b805-3dacf75b550c",
      "metadata": {
        "id": "d3f13e4b-2582-4cdc-b805-3dacf75b550c",
        "outputId": "44ba6d90-59cc-4664-dc5e-67a0011df8d9",
        "colab": {
          "base_uri": "https://localhost:8080/"
        }
      },
      "outputs": [
        {
          "output_type": "stream",
          "name": "stdout",
          "text": [
            "Accuracy for Randomized Search CV model: 0.40848410328473567\n"
          ]
        }
      ],
      "source": [
        "preds = search.predict(X_test)\n",
        "print('Accuracy for Randomized Search CV model: {}'.format(get_acc(test, preds)))"
      ]
    },
    {
      "cell_type": "code",
      "execution_count": null,
      "id": "488c127b-96e5-4afc-b0b0-97be0242b9a8",
      "metadata": {
        "id": "488c127b-96e5-4afc-b0b0-97be0242b9a8",
        "outputId": "43ee643c-8a2f-417d-849b-607e06c3c43f",
        "colab": {
          "base_uri": "https://localhost:8080/"
        }
      },
      "outputs": [
        {
          "output_type": "execute_result",
          "data": {
            "text/plain": [
              "0.8561540125459658"
            ]
          },
          "metadata": {},
          "execution_count": 30
        }
      ],
      "source": [
        "from sklearn.ensemble import GradientBoostingClassifier\n",
        "\n",
        "clf = GradientBoostingClassifier(n_estimators=100, learning_rate=1.0, max_depth=1, random_state=0)\n",
        "gb = clf.fit(X_train, train)\n",
        "gb.score(X_train, train)"
      ]
    },
    {
      "cell_type": "code",
      "execution_count": null,
      "id": "de6f4019-e1d5-4a7c-8583-24509ec799e5",
      "metadata": {
        "id": "de6f4019-e1d5-4a7c-8583-24509ec799e5",
        "outputId": "15736777-c7a4-4925-a4c2-cc539aabf1a1",
        "colab": {
          "base_uri": "https://localhost:8080/"
        }
      },
      "outputs": [
        {
          "output_type": "stream",
          "name": "stdout",
          "text": [
            "Accuracy for Gradient Boosting model: 0.8475320569119972\n"
          ]
        }
      ],
      "source": [
        "preds = gb.predict(X_test)\n",
        "print('Accuracy for Gradient Boosting model: {}'.format(get_acc(test, preds)))"
      ]
    },
    {
      "cell_type": "code",
      "execution_count": null,
      "id": "bb64d517-26c7-4864-b615-0dff25e6584d",
      "metadata": {
        "id": "bb64d517-26c7-4864-b615-0dff25e6584d",
        "outputId": "08462783-20a3-47e8-bd0e-3a87f7a78997",
        "colab": {
          "base_uri": "https://localhost:8080/"
        }
      },
      "outputs": [
        {
          "output_type": "execute_result",
          "data": {
            "text/plain": [
              "0.5420289855072464"
            ]
          },
          "metadata": {},
          "execution_count": 32
        }
      ],
      "source": [
        "from sklearn import svm\n",
        "\n",
        "clf = svm.SVC().fit(X_train, train)\n",
        "clf.score(X_train, train)"
      ]
    },
    {
      "cell_type": "code",
      "execution_count": null,
      "id": "b2fbea1a-da1d-44ba-a332-d908a5f5ebc9",
      "metadata": {
        "id": "b2fbea1a-da1d-44ba-a332-d908a5f5ebc9",
        "outputId": "0c7ca005-465e-4407-fbad-da30f7b0f299",
        "colab": {
          "base_uri": "https://localhost:8080/"
        }
      },
      "outputs": [
        {
          "output_type": "stream",
          "name": "stdout",
          "text": [
            "Accuracy for Soft Vector Machine model: 0.8475320569119972\n"
          ]
        }
      ],
      "source": [
        "preds = gb.predict(X_test)\n",
        "print('Accuracy for Soft Vector Machine model: {}'.format(get_acc(test, preds)))"
      ]
    },
    {
      "cell_type": "markdown",
      "source": [
        "# Karthika's Models"
      ],
      "metadata": {
        "id": "JEylIVB2DOW-"
      },
      "id": "JEylIVB2DOW-"
    },
    {
      "cell_type": "markdown",
      "source": [
        "# **Randomized Search CV**\n"
      ],
      "metadata": {
        "id": "XgfCE5MfDR0K"
      },
      "id": "XgfCE5MfDR0K"
    },
    {
      "cell_type": "code",
      "source": [
        "from sklearn.linear_model import LogisticRegression\n",
        "from sklearn.model_selection import RandomizedSearchCV\n",
        "from scipy.stats import uniform\n",
        "\n",
        "\n",
        "logistic = LogisticRegression(solver='saga', tol=1e-2, max_iter=200, random_state=0)\n",
        "distributions = dict(C=uniform(loc=0, scale=4), penalty=['l2', 'l1'])\n",
        "clf = RandomizedSearchCV(logistic, distributions, random_state=0, n_iter=100, cv=5)\n",
        "search = clf.fit(X_train, train)\n",
        "\n",
        "best_params = search.best_params_\n",
        "\n",
        "# Access the best estimator (trained model)\n",
        "best_model = search.best_estimator_\n",
        "\n",
        "# Access the mean cross-validated score (accuracy in this case)\n",
        "best_accuracy = search.best_score_\n",
        "\n",
        "print(\"Best Hyperparameters:\", best_params)\n",
        "print(\"Best Cross-validated Accuracy: {:.2%}\".format(best_accuracy))\n"
      ],
      "metadata": {
        "colab": {
          "base_uri": "https://localhost:8080/"
        },
        "id": "frEPgAWCciYJ",
        "outputId": "9ddc0758-3592-4eaa-d5cf-4f2723d2e99c"
      },
      "id": "frEPgAWCciYJ",
      "execution_count": null,
      "outputs": [
        {
          "output_type": "stream",
          "name": "stdout",
          "text": [
            "Best Hyperparameters: {'C': 2.195254015709299, 'penalty': 'l1'}\n",
            "Best Cross-validated Accuracy: 40.48%\n"
          ]
        }
      ]
    },
    {
      "cell_type": "code",
      "source": [
        "from sklearn.linear_model import LogisticRegression\n",
        "from sklearn.model_selection import RandomizedSearchCV, cross_val_score\n",
        "from scipy.stats import uniform\n",
        "\n",
        "\n",
        "logistic = LogisticRegression(solver='saga', tol=1e-2, max_iter=200, random_state=0)\n",
        "distributions = dict(C=uniform(loc=0, scale=4), penalty=['l2', 'l1'])\n",
        "\n",
        "# Use RandomizedSearchCV to find the best hyperparameters\n",
        "clf = RandomizedSearchCV(logistic, distributions, random_state=0, n_iter=100, cv=5)\n",
        "search = clf.fit(X_train, train)\n",
        "\n",
        "# Access the best estimator (trained model) from RandomizedSearchCV\n",
        "best_model = search.best_estimator_\n",
        "\n",
        "# Use cross_val_score for cross-validation with the best model\n",
        "cross_val_scores = cross_val_score(best_model, X_train, train, cv=5, scoring='accuracy')\n",
        "\n",
        "# Print the accuracy for each fold\n",
        "for i, score in enumerate(cross_val_scores, 1):\n",
        "    print(f\"Fold {i}: {score:.2%}\")\n",
        "\n",
        "# Print the mean accuracy\n",
        "print(\"Mean Cross-validated Accuracy: {:.2%}\".format(cross_val_scores.mean()))\n"
      ],
      "metadata": {
        "colab": {
          "base_uri": "https://localhost:8080/"
        },
        "id": "AglMgU-2eR9T",
        "outputId": "7c804fe7-9d5e-4d48-e663-8ad79f1e29d9"
      },
      "id": "AglMgU-2eR9T",
      "execution_count": null,
      "outputs": [
        {
          "output_type": "stream",
          "name": "stdout",
          "text": [
            "Fold 1: 40.28%\n",
            "Fold 2: 40.17%\n",
            "Fold 3: 40.71%\n",
            "Fold 4: 40.99%\n",
            "Fold 5: 40.28%\n",
            "Mean Cross-validated Accuracy: 40.48%\n"
          ]
        }
      ]
    },
    {
      "cell_type": "markdown",
      "source": [
        "## **SVM Example 1**\n"
      ],
      "metadata": {
        "id": "84-ZI-1ED1xI"
      },
      "id": "84-ZI-1ED1xI"
    },
    {
      "cell_type": "markdown",
      "source": [
        "Creating an ensemble model that combines the predictions of two base models : SVM and gradient boosting."
      ],
      "metadata": {
        "id": "kge3IbVhHfd-"
      },
      "id": "kge3IbVhHfd-"
    },
    {
      "cell_type": "code",
      "source": [
        "from sklearn.ensemble import VotingClassifier\n",
        "\n",
        "ensemble_clf = VotingClassifier(estimators=[('svm', clf), ('gb', gb)], voting='hard')\n",
        "ensemble_clf.fit(X_train, train)\n",
        "ensemble_preds = ensemble_clf.predict(X_test)\n",
        "print('accuracy for ensemble model: {}'.format(get_acc(test, ensemble_preds)))\n"
      ],
      "metadata": {
        "id": "b-7uG6eYDmoG",
        "colab": {
          "base_uri": "https://localhost:8080/"
        },
        "outputId": "5b29beda-c6ad-4c03-d7d5-cd710bdf21ca"
      },
      "id": "b-7uG6eYDmoG",
      "execution_count": null,
      "outputs": [
        {
          "output_type": "stream",
          "name": "stdout",
          "text": [
            "accuracy for ensemble model: 0.7698050237133321\n"
          ]
        }
      ]
    },
    {
      "cell_type": "markdown",
      "source": [
        "## **SVM Example 2**"
      ],
      "metadata": {
        "id": "HiEX3QufKd-y"
      },
      "id": "HiEX3QufKd-y"
    },
    {
      "cell_type": "markdown",
      "source": [
        "This is a Logistic Regression model using Scikit Learn's GridSerachCV."
      ],
      "metadata": {
        "id": "0Zw7jK0jIOPf"
      },
      "id": "0Zw7jK0jIOPf"
    },
    {
      "cell_type": "code",
      "source": [
        "from sklearn.model_selection import GridSearchCV\n",
        "\n",
        "param_grid = {'C': [0.001, 0.01, 0.1, 1, 10, 100],\n",
        "              'penalty': ['l1', 'l2']}\n",
        "\n",
        "grid_search = GridSearchCV(LogisticRegression(solver='saga', tol=1e-2, max_iter=200, random_state=0),\n",
        "                           param_grid, cv=5)\n",
        "\n",
        "grid_search.fit(X_train, train)\n",
        "\n",
        "best_params = grid_search.best_params_\n",
        "best_accuracy = grid_search.best_score_\n",
        "\n",
        "print(\"Hyperparameters:\", best_params)\n",
        "print(\"accuracy: {:.2%}\".format(best_accuracy))\n"
      ],
      "metadata": {
        "colab": {
          "base_uri": "https://localhost:8080/"
        },
        "id": "Qjkt4LfEIL_M",
        "outputId": "fd1960ce-1b99-4f1a-cf6a-f3bd36946562"
      },
      "id": "Qjkt4LfEIL_M",
      "execution_count": null,
      "outputs": [
        {
          "output_type": "stream",
          "name": "stdout",
          "text": [
            "Hyperparameters: {'C': 0.001, 'penalty': 'l1'}\n",
            "accuracy: 40.48%\n"
          ]
        }
      ]
    },
    {
      "cell_type": "markdown",
      "source": [
        "# **Other Models**\n",
        "\n",
        "## **Model 1 - Gradient Boosting**\n"
      ],
      "metadata": {
        "id": "iu8O_ZTOEkir"
      },
      "id": "iu8O_ZTOEkir"
    },
    {
      "cell_type": "markdown",
      "source": [
        "### Step 1: Train-Validation Split\n",
        "\n",
        "Purpose: Splitting the original training data (X_train and train) into new training and validation sets.\n",
        "\n",
        "Explanation: This step is crucial for evaluating the model's performance on an independent dataset (validation set) during the training process.\n",
        "\n",
        "### Step 2: Initializing Gradient Boosting Model\n",
        "\n",
        "Purpose: Initializing the Gradient Boosting model with specific hyperparameters.\n",
        "\n",
        "Explanation: Setting up the model with parameters such as the number of boosting stages (n_estimators), the step size (learning_rate), and the maximum depth of the individual trees (max_depth).\n",
        "\n",
        "\n",
        "### Step 3: Training the Gradient Boosting Model\n",
        "Purpose: Training the Gradient Boosting model on the training set.\n",
        "\n",
        "Explanation: Using the training set (X_train_gb, train_gb) to train the model. The model learns to predict the target variable based on the features.\n",
        "\n",
        "### Step 4: Making Predictions on the Validation Set\n",
        "\n",
        "Purpose: Using the trained Gradient Boosting model to make predictions on the validation set.\n",
        "\n",
        "Explanation: The model predicts the target variable (val_preds) for the validation set (X_val_gb). These predictions will be compared to the actual labels (val_gb) to evaluate the model's performance.\n",
        "\n",
        "### Step 5: Evaluating Accuracy on the Validation Set\n",
        "\n",
        "Purpose: Evaluating the accuracy of the Gradient Boosting model on the validation set.\n",
        "\n",
        "Explanation: The accuracy is calculated by comparing the predicted labels (val_preds) with the actual labels (val_gb). The result is printed to assess the model's performance.\n",
        "\n",
        "## Step 6: Making Predictions on the Test Set\n",
        "Using the trained Gradient Boosting model to make predictions on the test set.\n",
        "\n",
        "Explanation: The model predicts the target variable (test_preds) for the test set (X_test). These predictions will be used to assess the model's generalization to new, unseen data.\n",
        "\n",
        "### Step 7: Evaluating Accuracy on the Test Set\n",
        "\n",
        "Purpose: Evaluating the accuracy of the Gradient Boosting model on the test set.\n",
        "\n",
        "Explanation: The accuracy is calculated by comparing the predicted labels (test_preds) with the actual labels (test). The result is printed to assess how well the model performs on new, unseen data."
      ],
      "metadata": {
        "id": "khSFadCg_eNK"
      },
      "id": "khSFadCg_eNK"
    },
    {
      "cell_type": "code",
      "source": [
        "from sklearn.ensemble import GradientBoostingClassifier\n",
        "from sklearn.model_selection import train_test_split\n",
        "from sklearn.metrics import accuracy_score\n",
        "\n",
        "X_train_gb, X_val_gb, train_gb, val_gb = train_test_split(X_train, train, test_size=0.2, random_state=42)\n",
        "\n",
        "gb_model = GradientBoostingClassifier(n_estimators=100, learning_rate=0.1, max_depth=3, random_state=42)\n",
        "gb_model.fit(X_train_gb, train_gb)\n",
        "\n",
        "val_preds = gb_model.predict(X_val_gb)\n",
        "print('Accuracy for Gradient Boosting model on validation set: {:.2%}'.format(accuracy_score(val_gb, val_preds)))\n",
        "\n",
        "test_preds = gb_model.predict(X_test)\n",
        "print('Accuracy for Gradient Boosting model on test set: {:.2%}'.format(accuracy_score(test, test_preds)))\n"
      ],
      "metadata": {
        "id": "slitBz0nEssO",
        "colab": {
          "base_uri": "https://localhost:8080/"
        },
        "outputId": "cea63f17-29ca-4a22-ddf4-9a1b215c88df"
      },
      "id": "slitBz0nEssO",
      "execution_count": null,
      "outputs": [
        {
          "output_type": "stream",
          "name": "stdout",
          "text": [
            "Accuracy for Gradient Boosting model on validation set: 96.04%\n",
            "Accuracy for Gradient Boosting model on test set: 96.23%\n"
          ]
        }
      ]
    },
    {
      "cell_type": "markdown",
      "source": [
        "## **Model 2 - KNN**\n"
      ],
      "metadata": {
        "id": "JLG3rZjME6H_"
      },
      "id": "JLG3rZjME6H_"
    },
    {
      "cell_type": "code",
      "source": [
        "from sklearn.ensemble import GradientBoostingClassifier\n",
        "\n",
        "gb_clf = GradientBoostingClassifier(n_estimators=100, learning_rate=0.1, max_depth=3, random_state=42)\n",
        "gb_clf.fit(X_train, train)\n",
        "gb_preds = gb_clf.predict(X_test)\n",
        "print('Accuracy for Gradient Boosting model: {}'.format(get_acc(test, gb_preds)))"
      ],
      "metadata": {
        "id": "0k3y-9R7FDz8",
        "colab": {
          "base_uri": "https://localhost:8080/"
        },
        "outputId": "12f09a78-e153-4add-fca9-236367d5860d"
      },
      "id": "0k3y-9R7FDz8",
      "execution_count": null,
      "outputs": [
        {
          "output_type": "stream",
          "name": "stdout",
          "text": [
            "Accuracy for Gradient Boosting model: 0.9650447918496399\n"
          ]
        }
      ]
    },
    {
      "cell_type": "markdown",
      "source": [
        "### Step 1: Splitting the Data\n",
        "\n",
        "Purpose: Splitting the original training data (X_train and train) into new training and validation sets.\n",
        "\n",
        "Explanation: This is done to have a separate portion of the data for training the base models (rf_model and nn_model) and another portion for validating their performance.\n",
        "\n",
        "### Step 2: Initializing Base Models\n",
        "\n",
        "Purpose: Initializing two base models - RandomForestClassifier (rf_model) and MLPClassifier (nn_model).\n",
        "\n",
        "Explanation: These models will serve as the individual components of the ensemble. RandomForest is a tree-based model, and MLP (Multi-Layer Perceptron) is a neural network.\n",
        "\n",
        "### Step 3: Training Base Models\n",
        "\n",
        "Purpose: Training the base models on the training set.\n",
        "\n",
        "Explanation: Fit the RandomForest and MLP models on the training set (X_train_base, train_base). This step allows the models to learn patterns and relationships within the training data.\n",
        "\n",
        "### Step 4: Making Predictions on the Validation Set\n",
        "\n",
        "Purpose: Using the trained base models to make predictions on the validation set.\n",
        "\n",
        "Explanation: Predictions are made on the validation set (X_val_base). These predictions will be used as features for the meta-model."
      ],
      "metadata": {
        "id": "cAINb_d9FF2b"
      },
      "id": "cAINb_d9FF2b"
    },
    {
      "cell_type": "code",
      "source": [
        "from sklearn.ensemble import RandomForestClassifier\n",
        "from sklearn.neural_network import MLPClassifier\n",
        "from sklearn.ensemble import VotingClassifier\n",
        "from sklearn.model_selection import train_test_split\n",
        "from sklearn.metrics import accuracy_score\n",
        "import numpy as np\n",
        "\n",
        "# Split the data into training and validation sets\n",
        "X_train_base, X_val_base, train_base, val_base = train_test_split(X_train, train, test_size=0.2, random_state=42)\n",
        "\n",
        "# Base models\n",
        "rf_model = RandomForestClassifier(n_estimators=100, random_state=42)\n",
        "nn_model = MLPClassifier(hidden_layer_sizes=(100,), max_iter=500, activation='relu', random_state=42)\n",
        "\n",
        "# Train the base models on the base training set\n",
        "rf_model.fit(X_train_base, train_base)\n",
        "nn_model.fit(X_train_base, train_base)\n",
        "\n",
        "# Use the base models to make predictions on the validation set\n",
        "rf_preds_val = rf_model.predict(X_val_base)\n",
        "nn_preds_val = nn_model.predict(X_val_base)\n",
        "\n",
        "# new training set for the meta-model (using predictions from base models)\n",
        "X_train_meta = np.column_stack((rf_preds_val, nn_preds_val))\n",
        "\n",
        "# Train the meta-model (e.g., logistic regression) on the new training set\n",
        "meta_model = LogisticRegression()\n",
        "meta_model.fit(X_train_meta, val_base)\n",
        "\n",
        "# base models to make predictions on the test set\n",
        "rf_preds_test = rf_model.predict(X_test)\n",
        "nn_preds_test = nn_model.predict(X_test)\n",
        "\n",
        "# Create a new test set for the meta-model\n",
        "X_test_meta = np.column_stack((rf_preds_test, nn_preds_test))\n",
        "\n",
        "# Use the meta-model to make final predictions on the test set\n",
        "final_preds = meta_model.predict(X_test_meta)\n",
        "\n",
        "print('Accuracy for Hybrid model: {:.2%}'.format(accuracy_score(test, final_preds)))\n"
      ],
      "metadata": {
        "colab": {
          "base_uri": "https://localhost:8080/"
        },
        "id": "YhD4HwzjJ4UI",
        "outputId": "ba720e7c-5e5d-495e-fe32-7e4af96dba90"
      },
      "id": "YhD4HwzjJ4UI",
      "execution_count": null,
      "outputs": [
        {
          "output_type": "stream",
          "name": "stdout",
          "text": [
            "Accuracy for Hybrid model: 98.95%\n"
          ]
        },
        {
          "output_type": "stream",
          "name": "stderr",
          "text": [
            "/usr/local/lib/python3.10/dist-packages/sklearn/linear_model/_logistic.py:458: ConvergenceWarning: lbfgs failed to converge (status=1):\n",
            "STOP: TOTAL NO. of ITERATIONS REACHED LIMIT.\n",
            "\n",
            "Increase the number of iterations (max_iter) or scale the data as shown in:\n",
            "    https://scikit-learn.org/stable/modules/preprocessing.html\n",
            "Please also refer to the documentation for alternative solver options:\n",
            "    https://scikit-learn.org/stable/modules/linear_model.html#logistic-regression\n",
            "  n_iter_i = _check_optimize_result(\n"
          ]
        }
      ]
    }
  ],
  "metadata": {
    "kernelspec": {
      "display_name": "Python 3 (ipykernel)",
      "language": "python",
      "name": "python3"
    },
    "language_info": {
      "codemirror_mode": {
        "name": "ipython",
        "version": 3
      },
      "file_extension": ".py",
      "mimetype": "text/x-python",
      "name": "python",
      "nbconvert_exporter": "python",
      "pygments_lexer": "ipython3",
      "version": "3.11.6"
    },
    "colab": {
      "provenance": []
    }
  },
  "nbformat": 4,
  "nbformat_minor": 5
}